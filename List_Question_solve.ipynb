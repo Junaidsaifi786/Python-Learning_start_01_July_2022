{
 "cells": [
  {
   "cell_type": "code",
   "execution_count": 1,
   "id": "46b35574",
   "metadata": {},
   "outputs": [],
   "source": [
    "#1.Python program to swap two elements in a list\n",
    "#2.Maximum of numbers in a list \n",
    "#3.Minimum of  numbers in list.\n",
    "#4.Python | Reversing a List\n",
    "#5.Python | Sum of number digits in List.........\n",
    "#6.Python | Multiply all numbers in the list\n",
    "#7.Python program to find second largest number in a list.\n",
    "#8.Python program to count Even and Odd numbers in a List.\n",
    "#9.Python program to print positive numbers in a list.\n",
    "#10.Python program to print negative numbers in a list."
   ]
  },
  {
   "cell_type": "code",
   "execution_count": 3,
   "id": "c9fe88e1",
   "metadata": {},
   "outputs": [
    {
     "name": "stdout",
     "output_type": "stream",
     "text": [
      "[66, 45, 85, 96, 34, 25]\n"
     ]
    }
   ],
   "source": [
    "#1.Python program to swap two elements in a list\n",
    "                                                                \n",
    "x = [45,66,85,96,34,25]                                                      \n",
    "a = x[0]\n",
    "x[0] = x[1]\n",
    "x[1] = a\n",
    "print(x)"
   ]
  },
  {
   "cell_type": "code",
   "execution_count": 35,
   "id": "c74a9f5c",
   "metadata": {},
   "outputs": [
    {
     "name": "stdout",
     "output_type": "stream",
     "text": [
      "78\n",
      "78\n",
      "78\n",
      "86\n",
      "86\n"
     ]
    }
   ],
   "source": [
    "#2.Maximum of numbers in a list \n",
    "\n",
    "x = [78,45,65,86,32]\n",
    "y = 0\n",
    "for i in x:\n",
    "    if y<i:\n",
    "        y = i\n",
    "    print(y)"
   ]
  },
  {
   "cell_type": "code",
   "execution_count": 37,
   "id": "94244b44",
   "metadata": {},
   "outputs": [
    {
     "name": "stdout",
     "output_type": "stream",
     "text": [
      "19\n"
     ]
    }
   ],
   "source": [
    "#3.Minimum of  numbers in list.\n",
    "\n",
    "x = [98,19,32,78,24,65,37]\n",
    "y = x[0]\n",
    "for i in x:\n",
    "    if y>i:\n",
    "        y=i\n",
    "print(y)"
   ]
  },
  {
   "cell_type": "code",
   "execution_count": 33,
   "id": "1c0df9b5",
   "metadata": {},
   "outputs": [
    {
     "name": "stdout",
     "output_type": "stream",
     "text": [
      "[37, 19, 24, 78, 32, 65, 98]\n"
     ]
    }
   ],
   "source": [
    "#4.Python | Reversing a List\n",
    "\n",
    "x = [98,65,32,78,24,19,37]\n",
    "x.reverse()\n",
    "print(x)"
   ]
  },
  {
   "cell_type": "code",
   "execution_count": 28,
   "id": "292a2cb6",
   "metadata": {},
   "outputs": [
    {
     "name": "stdout",
     "output_type": "stream",
     "text": [
      "78\n",
      "123\n",
      "155\n",
      "217\n",
      "275\n"
     ]
    }
   ],
   "source": [
    "#5.Python | Sum of number digits in List\n",
    "\n",
    "x = [78,45,32,62,58]\n",
    "y = 0\n",
    "for i in x:\n",
    "    y = y+i\n",
    "    print(y)"
   ]
  },
  {
   "cell_type": "code",
   "execution_count": 26,
   "id": "238dc089",
   "metadata": {},
   "outputs": [
    {
     "name": "stdout",
     "output_type": "stream",
     "text": [
      "403902720\n"
     ]
    }
   ],
   "source": [
    "#6.Python | Multiply all numbers in the list\n",
    "\n",
    "x = [78,45,32,62,58]\n",
    "y = 1\n",
    "for i in x:\n",
    "    y = y*i\n",
    "print(y)"
   ]
  },
  {
   "cell_type": "code",
   "execution_count": 29,
   "id": "d301dce8",
   "metadata": {},
   "outputs": [],
   "source": [
    "#7.Python program to find second largest number in a list.\n",
    "\n",
    "x = [14,15,64,54,23,98]\n",
    "x.sort()"
   ]
  },
  {
   "cell_type": "code",
   "execution_count": 30,
   "id": "168bee3a",
   "metadata": {},
   "outputs": [
    {
     "name": "stdout",
     "output_type": "stream",
     "text": [
      "[14, 15, 23, 54, 64, 98]\n"
     ]
    }
   ],
   "source": [
    "print(x)"
   ]
  },
  {
   "cell_type": "code",
   "execution_count": 31,
   "id": "0f8034be",
   "metadata": {},
   "outputs": [
    {
     "name": "stdout",
     "output_type": "stream",
     "text": [
      "64\n"
     ]
    }
   ],
   "source": [
    "print(x[-2])"
   ]
  },
  {
   "cell_type": "code",
   "execution_count": 69,
   "id": "1fc4c1f2",
   "metadata": {},
   "outputs": [
    {
     "ename": "IndentationError",
     "evalue": "unindent does not match any outer indentation level (<tokenize>, line 7)",
     "output_type": "error",
     "traceback": [
      "\u001b[1;36m  File \u001b[1;32m<tokenize>:7\u001b[1;36m\u001b[0m\n\u001b[1;33m    count1= count_even + 1\u001b[0m\n\u001b[1;37m    ^\u001b[0m\n\u001b[1;31mIndentationError\u001b[0m\u001b[1;31m:\u001b[0m unindent does not match any outer indentation level\n"
     ]
    }
   ],
   "source": [
    "x=[78,45,62,47,63,78,25,64]\n",
    "count_even = 0\n",
    "count_odd = 0\n",
    "for i in x:\n",
    "    if i%2==0:\n",
    "         print(\"even--------->\",i)    \n",
    "        count1= count_even + 1\n",
    "    else:\n",
    "        print(\"odd--------->\",i)\n",
    "        count2= count_odd + 1\n",
    "print(count1)\n",
    "print(count2)\n",
    "        \n",
    "    "
   ]
  },
  {
   "cell_type": "code",
   "execution_count": 82,
   "id": "1648d505",
   "metadata": {},
   "outputs": [
    {
     "name": "stdout",
     "output_type": "stream",
     "text": [
      "even---------> 78\n",
      "odd---------> 45\n",
      "even---------> 62\n",
      "odd---------> 47\n",
      "odd---------> 63\n",
      "even---------> 78\n",
      "odd---------> 25\n",
      "even---------> 64\n",
      "4\n",
      "4\n"
     ]
    }
   ],
   "source": [
    "x=[78,45,62,47,63,78,25,64]\n",
    "count_even = 0\n",
    "count_odd = 0\n",
    "for i in x:\n",
    "    if i%2==0:\n",
    "             print(\"even--------->\",i)    \n",
    "             count_even= count_even + 1\n",
    "    else:\n",
    "             print(\"odd--------->\",i)\n",
    "             count_odd= count_odd + 1\n",
    "print(count_even)\n",
    "print(count_odd)\n",
    "        "
   ]
  },
  {
   "cell_type": "code",
   "execution_count": null,
   "id": "3b8dbd49",
   "metadata": {},
   "outputs": [],
   "source": []
  },
  {
   "cell_type": "code",
   "execution_count": null,
   "id": "1b111dfd",
   "metadata": {},
   "outputs": [],
   "source": []
  }
 ],
 "metadata": {
  "kernelspec": {
   "display_name": "Python 3 (ipykernel)",
   "language": "python",
   "name": "python3"
  },
  "language_info": {
   "codemirror_mode": {
    "name": "ipython",
    "version": 3
   },
   "file_extension": ".py",
   "mimetype": "text/x-python",
   "name": "python",
   "nbconvert_exporter": "python",
   "pygments_lexer": "ipython3",
   "version": "3.9.12"
  }
 },
 "nbformat": 4,
 "nbformat_minor": 5
}
