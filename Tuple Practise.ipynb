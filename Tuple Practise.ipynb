{
 "cells": [
  {
   "cell_type": "code",
   "execution_count": 1,
   "id": "876f03a7",
   "metadata": {},
   "outputs": [
    {
     "name": "stdout",
     "output_type": "stream",
     "text": [
      "(12, 56, 45, 78, 32, 77, 96.7, 'hello', 'true')\n"
     ]
    },
    {
     "data": {
      "text/plain": [
       "tuple"
      ]
     },
     "execution_count": 1,
     "metadata": {},
     "output_type": "execute_result"
    }
   ],
   "source": [
    "x = (12,56,32,45,78,32,77,96.7,\"hello\",\"true\")\n",
    "print(x)\n",
    "type(x)"
   ]
  },
  {
   "cell_type": "code",
   "execution_count": 2,
   "id": "3698867e",
   "metadata": {},
   "outputs": [
    {
     "ename": "AttributeError",
     "evalue": "'tuple' object has no attribute 'append'",
     "output_type": "error",
     "traceback": [
      "\u001b[1;31m---------------------------------------------------------------------------\u001b[0m",
      "\u001b[1;31mAttributeError\u001b[0m                            Traceback (most recent call last)",
      "Input \u001b[1;32mIn [2]\u001b[0m, in \u001b[0;36m<cell line: 1>\u001b[1;34m()\u001b[0m\n\u001b[1;32m----> 1\u001b[0m \u001b[43mx\u001b[49m\u001b[38;5;241;43m.\u001b[39;49m\u001b[43mappend\u001b[49m(\u001b[38;5;241m12\u001b[39m)\n",
      "\u001b[1;31mAttributeError\u001b[0m: 'tuple' object has no attribute 'append'"
     ]
    }
   ],
   "source": [
    "x.append(12)"
   ]
  },
  {
   "cell_type": "code",
   "execution_count": 3,
   "id": "ac58f8b5",
   "metadata": {},
   "outputs": [
    {
     "name": "stdout",
     "output_type": "stream",
     "text": [
      "(12, 56, 45, 78, 32, 77, 96.7, 'hello', 'true')\n"
     ]
    }
   ],
   "source": [
    "print(x)"
   ]
  },
  {
   "cell_type": "code",
   "execution_count": 6,
   "id": "93eb40a3",
   "metadata": {},
   "outputs": [
    {
     "data": {
      "text/plain": [
       "1"
      ]
     },
     "execution_count": 6,
     "metadata": {},
     "output_type": "execute_result"
    }
   ],
   "source": [
    "x.count(32)"
   ]
  },
  {
   "cell_type": "code",
   "execution_count": 7,
   "id": "c7815aeb",
   "metadata": {},
   "outputs": [
    {
     "data": {
      "text/plain": [
       "1"
      ]
     },
     "execution_count": 7,
     "metadata": {},
     "output_type": "execute_result"
    }
   ],
   "source": [
    "x.count(32)"
   ]
  },
  {
   "cell_type": "code",
   "execution_count": 8,
   "id": "4433023b",
   "metadata": {},
   "outputs": [
    {
     "data": {
      "text/plain": [
       "2"
      ]
     },
     "execution_count": 8,
     "metadata": {},
     "output_type": "execute_result"
    }
   ],
   "source": [
    "x = (12,56,32,45,78,32,77,96.7,\"hello\",\"true\")\n",
    "x.count(32)"
   ]
  },
  {
   "cell_type": "code",
   "execution_count": 10,
   "id": "2974171d",
   "metadata": {},
   "outputs": [
    {
     "data": {
      "text/plain": [
       "4"
      ]
     },
     "execution_count": 10,
     "metadata": {},
     "output_type": "execute_result"
    }
   ],
   "source": [
    "x = (12,56,32,45,78,[6,5,4,3,2,1],32,77,96.7,\"hello\",\"true\")\n",
    "x[5][2]\n"
   ]
  },
  {
   "cell_type": "code",
   "execution_count": 11,
   "id": "1b007ac3",
   "metadata": {},
   "outputs": [
    {
     "data": {
      "text/plain": [
       "(12, 56, 32, 45, 78, [6, 5, 69, 3, 2, 1], 32, 77, 96.7, 'hello', 'true')"
      ]
     },
     "execution_count": 11,
     "metadata": {},
     "output_type": "execute_result"
    }
   ],
   "source": [
    "x[5][2]=69\n",
    "x"
   ]
  },
  {
   "cell_type": "code",
   "execution_count": 12,
   "id": "d4eda06b",
   "metadata": {},
   "outputs": [
    {
     "data": {
      "text/plain": [
       "tuple"
      ]
     },
     "execution_count": 12,
     "metadata": {},
     "output_type": "execute_result"
    }
   ],
   "source": [
    "x=(1,)\n",
    "type(x)"
   ]
  },
  {
   "cell_type": "code",
   "execution_count": 13,
   "id": "380e8dae",
   "metadata": {},
   "outputs": [
    {
     "data": {
      "text/plain": [
       "()"
      ]
     },
     "execution_count": 13,
     "metadata": {},
     "output_type": "execute_result"
    }
   ],
   "source": [
    "x=()\n",
    "x"
   ]
  },
  {
   "cell_type": "code",
   "execution_count": 14,
   "id": "44622aa0",
   "metadata": {},
   "outputs": [
    {
     "data": {
      "text/plain": [
       "tuple"
      ]
     },
     "execution_count": 14,
     "metadata": {},
     "output_type": "execute_result"
    }
   ],
   "source": [
    "type(x)"
   ]
  },
  {
   "cell_type": "code",
   "execution_count": 18,
   "id": "d342421d",
   "metadata": {},
   "outputs": [
    {
     "data": {
      "text/plain": [
       "14"
      ]
     },
     "execution_count": 18,
     "metadata": {},
     "output_type": "execute_result"
    }
   ],
   "source": [
    "x = (12,11,14,16,78,98,65)\n",
    "x[2]\n"
   ]
  },
  {
   "cell_type": "code",
   "execution_count": 20,
   "id": "2cdad9ce",
   "metadata": {},
   "outputs": [
    {
     "ename": "AttributeError",
     "evalue": "'tuple' object has no attribute 'insert'",
     "output_type": "error",
     "traceback": [
      "\u001b[1;31m---------------------------------------------------------------------------\u001b[0m",
      "\u001b[1;31mAttributeError\u001b[0m                            Traceback (most recent call last)",
      "Input \u001b[1;32mIn [20]\u001b[0m, in \u001b[0;36m<cell line: 1>\u001b[1;34m()\u001b[0m\n\u001b[1;32m----> 1\u001b[0m \u001b[43mx\u001b[49m\u001b[38;5;241;43m.\u001b[39;49m\u001b[43minsert\u001b[49m(\u001b[38;5;241m2\u001b[39m,\u001b[38;5;241m56\u001b[39m)\n\u001b[0;32m      2\u001b[0m \u001b[38;5;28mprint\u001b[39m(x)\n",
      "\u001b[1;31mAttributeError\u001b[0m: 'tuple' object has no attribute 'insert'"
     ]
    }
   ],
   "source": [
    "x.insert(2,56)\n",
    "print(x)"
   ]
  },
  {
   "cell_type": "code",
   "execution_count": 27,
   "id": "f731a7d4",
   "metadata": {},
   "outputs": [
    {
     "data": {
      "text/plain": [
       "0"
      ]
     },
     "execution_count": 27,
     "metadata": {},
     "output_type": "execute_result"
    }
   ],
   "source": [
    "x = [12,12,12,11,14,16,78,98,65]\n",
    "x.index(12)"
   ]
  },
  {
   "cell_type": "code",
   "execution_count": 30,
   "id": "75224648",
   "metadata": {},
   "outputs": [],
   "source": [
    "x.remove(78)"
   ]
  },
  {
   "cell_type": "code",
   "execution_count": 31,
   "id": "94907543",
   "metadata": {},
   "outputs": [
    {
     "data": {
      "text/plain": [
       "[12, 12, 11, 14, 16, 98, 65]"
      ]
     },
     "execution_count": 31,
     "metadata": {},
     "output_type": "execute_result"
    }
   ],
   "source": [
    "x"
   ]
  },
  {
   "cell_type": "code",
   "execution_count": 49,
   "id": "87061a38",
   "metadata": {},
   "outputs": [
    {
     "name": "stdout",
     "output_type": "stream",
     "text": [
      "divisible by k 12\n",
      "divisible by k 14\n",
      "divisible by k 36\n"
     ]
    }
   ],
   "source": [
    "# Ques.Python program to find tuples which have \n",
    "#all elements divisible by K from a list of tuples.\n",
    "\n",
    "a = [(12,11,14,65,21,36)]\n",
    "k = 2\n",
    "for i in a:\n",
    "    for j in i:\n",
    "   \n",
    "        if j % k ==0:\n",
    "            print(\"divisible by k\",j)\n",
    "        \n",
    "    \n",
    "    "
   ]
  },
  {
   "cell_type": "code",
   "execution_count": 40,
   "id": "e35f6f64",
   "metadata": {},
   "outputs": [],
   "source": [
    "a = [12,11,14,65,21,36]\n",
    "y = tuple(x)"
   ]
  },
  {
   "cell_type": "code",
   "execution_count": 38,
   "id": "f3e8bdab",
   "metadata": {},
   "outputs": [
    {
     "name": "stdout",
     "output_type": "stream",
     "text": [
      "[12, 12, 11, 14, 16, 98, 65]\n"
     ]
    }
   ],
   "source": [
    "print(y)"
   ]
  },
  {
   "cell_type": "code",
   "execution_count": 41,
   "id": "0e15f04c",
   "metadata": {},
   "outputs": [
    {
     "data": {
      "text/plain": [
       "list"
      ]
     },
     "execution_count": 41,
     "metadata": {},
     "output_type": "execute_result"
    }
   ],
   "source": [
    "type(a)#6.Write a Python program to convert a list to a tuple."
   ]
  },
  {
   "cell_type": "code",
   "execution_count": 50,
   "id": "f0099749",
   "metadata": {},
   "outputs": [
    {
     "name": "stdout",
     "output_type": "stream",
     "text": [
      "(12, 11, 14, 16, 85)\n"
     ]
    }
   ],
   "source": [
    "#6.Write a Python program to convert a list to a tuple.\n",
    "\n",
    "x = [12,11,14,16,85]\n",
    "z = tuple(x)\n",
    "print(z)"
   ]
  },
  {
   "cell_type": "code",
   "execution_count": 56,
   "id": "ab9490ba",
   "metadata": {},
   "outputs": [
    {
     "name": "stdout",
     "output_type": "stream",
     "text": [
      "(12, 65, 45, 78, 65)\n"
     ]
    }
   ],
   "source": [
    "#7.Write a Python program to convert a tuple to list.\n",
    "\n",
    "x = (12,25,65,45,78,65)\n",
    "y = list(x)\n",
    "y.remove(25)\n",
    "z= tuple(y)\n",
    "print(z)"
   ]
  },
  {
   "cell_type": "code",
   "execution_count": 52,
   "id": "7f299b7c",
   "metadata": {},
   "outputs": [
    {
     "name": "stdout",
     "output_type": "stream",
     "text": [
      "[12, 25, 65, 45, 78, 65]\n"
     ]
    }
   ],
   "source": [
    "print(y)"
   ]
  },
  {
   "cell_type": "code",
   "execution_count": 53,
   "id": "941d5783",
   "metadata": {},
   "outputs": [],
   "source": [
    "y.remove(65)"
   ]
  },
  {
   "cell_type": "code",
   "execution_count": 55,
   "id": "b3710950",
   "metadata": {},
   "outputs": [
    {
     "name": "stdout",
     "output_type": "stream",
     "text": [
      "(12, 25, 45, 78, 65)\n"
     ]
    }
   ],
   "source": [
    "z = tuple(y)\n",
    "print(z)"
   ]
  },
  {
   "cell_type": "code",
   "execution_count": 57,
   "id": "82746986",
   "metadata": {},
   "outputs": [
    {
     "name": "stdout",
     "output_type": "stream",
     "text": [
      "(12, 32, 56, 78, 76, 12)\n"
     ]
    }
   ],
   "source": [
    "# Ques. 4.Write a Python program to add an item in a tuple.\n",
    "\n",
    "x = (12,32,56,78,76)\n",
    "y = list(x)\n",
    "y.append(12)\n",
    "z = tuple(y)\n",
    "print(z)"
   ]
  },
  {
   "cell_type": "code",
   "execution_count": null,
   "id": "ee11047d",
   "metadata": {},
   "outputs": [],
   "source": [
    "# Ques.Write a Python program to find the index of an  item of a tuple"
   ]
  },
  {
   "cell_type": "code",
   "execution_count": 58,
   "id": "59393733",
   "metadata": {},
   "outputs": [
    {
     "data": {
      "text/plain": [
       "1"
      ]
     },
     "execution_count": 58,
     "metadata": {},
     "output_type": "execute_result"
    }
   ],
   "source": [
    "# SOLUTION\n",
    "x = (12,32,56,78,76)\n",
    "x.index(32)"
   ]
  },
  {
   "cell_type": "code",
   "execution_count": 64,
   "id": "108860e2",
   "metadata": {},
   "outputs": [
    {
     "name": "stdout",
     "output_type": "stream",
     "text": [
      "4\n",
      "12\n",
      "24\n",
      "48\n",
      "-48\n",
      "-864\n"
     ]
    }
   ],
   "source": [
    "#.Ques.Write a Python program calculate the product, \n",
    "#multiplying all the numbers of a given tuple. \n",
    "#Original Tuple:\n",
    "x = (4, 3, 2, 2, -1, 18)\n",
    "y = 1 \n",
    "for i in x:\n",
    "    y = y * i\n",
    "    print(y)\n"
   ]
  },
  {
   "cell_type": "code",
   "execution_count": 70,
   "id": "6f3088e8",
   "metadata": {},
   "outputs": [
    {
     "name": "stdout",
     "output_type": "stream",
     "text": [
      "(18, -1, 2, 2, 3, 4)\n"
     ]
    }
   ],
   "source": [
    "# Ques. Write a Python program to reverse a tuple.\n",
    "\n",
    "x = (4, 3, 2, 2, -1, 18)\n",
    "y = list(x)\n",
    "y.reverse()\n",
    "z=tuple(y)\n",
    "print(z)"
   ]
  },
  {
   "cell_type": "code",
   "execution_count": null,
   "id": "866edf87",
   "metadata": {},
   "outputs": [],
   "source": []
  }
 ],
 "metadata": {
  "kernelspec": {
   "display_name": "Python 3 (ipykernel)",
   "language": "python",
   "name": "python3"
  },
  "language_info": {
   "codemirror_mode": {
    "name": "ipython",
    "version": 3
   },
   "file_extension": ".py",
   "mimetype": "text/x-python",
   "name": "python",
   "nbconvert_exporter": "python",
   "pygments_lexer": "ipython3",
   "version": "3.9.12"
  }
 },
 "nbformat": 4,
 "nbformat_minor": 5
}
