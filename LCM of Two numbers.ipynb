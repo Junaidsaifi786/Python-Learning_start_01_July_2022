{
 "cells": [
  {
   "cell_type": "code",
   "execution_count": 18,
   "id": "89b0c0a7",
   "metadata": {},
   "outputs": [
    {
     "name": "stdout",
     "output_type": "stream",
     "text": [
      "Enter first number\n",
      "12\n",
      "Enter second number\n",
      "5\n",
      "the lcm of 12 and 5 is 60\n"
     ]
    }
   ],
   "source": [
    "a = int(input(\"Enter first number\\n\"))\n",
    "b = int(input(\"Enter second number\\n\"))\n",
    "if a>b:\n",
    "    max = a\n",
    "else:\n",
    "    max=b\n",
    "    \n",
    "while(True):\n",
    "    if( max%a==0 and max%b==0):\n",
    "        break\n",
    "    max = max+1\n",
    "print(f\"the lcm of {a} and {b} is {max}\")\n",
    "\n",
    "    \n",
    "    "
   ]
  },
  {
   "cell_type": "code",
   "execution_count": 21,
   "id": "c7d51c02",
   "metadata": {},
   "outputs": [
    {
     "name": "stdout",
     "output_type": "stream",
     "text": [
      "Enter first number\n",
      "12\n",
      "Enter second number\n",
      "13\n",
      "the hcf of 12 and 13 is 1\n"
     ]
    }
   ],
   "source": [
    "# wap to find hcf of two number\n",
    "\n",
    "a = int(input(\"Enter first number\\n\"))\n",
    "b = int(input(\"Enter second number\\n\"))\n",
    "if a>b:\n",
    "    min = b\n",
    "else:\n",
    "    min = a\n",
    "    \n",
    "for i in range(1,min+1):\n",
    "    if(a%i==0 and b%i==0):\n",
    "        hcf = i\n",
    "        \n",
    "print(f\"the hcf of {a} and {b} is {hcf}\")\n",
    "\n"
   ]
  },
  {
   "cell_type": "code",
   "execution_count": null,
   "id": "e81e47a7",
   "metadata": {},
   "outputs": [],
   "source": []
  },
  {
   "cell_type": "code",
   "execution_count": null,
   "id": "b3955e6e",
   "metadata": {},
   "outputs": [],
   "source": []
  }
 ],
 "metadata": {
  "kernelspec": {
   "display_name": "Python 3 (ipykernel)",
   "language": "python",
   "name": "python3"
  },
  "language_info": {
   "codemirror_mode": {
    "name": "ipython",
    "version": 3
   },
   "file_extension": ".py",
   "mimetype": "text/x-python",
   "name": "python",
   "nbconvert_exporter": "python",
   "pygments_lexer": "ipython3",
   "version": "3.9.12"
  }
 },
 "nbformat": 4,
 "nbformat_minor": 5
}
