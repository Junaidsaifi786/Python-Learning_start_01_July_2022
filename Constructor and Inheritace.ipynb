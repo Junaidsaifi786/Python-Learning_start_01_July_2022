{
 "cells": [
  {
   "cell_type": "markdown",
   "id": "3e737610",
   "metadata": {},
   "source": [
    "#     constructor"
   ]
  },
  {
   "cell_type": "code",
   "execution_count": 1,
   "id": "1c119f17",
   "metadata": {},
   "outputs": [
    {
     "data": {
      "text/plain": [
       "14"
      ]
     },
     "execution_count": 1,
     "metadata": {},
     "output_type": "execute_result"
    }
   ],
   "source": [
    "class student:\n",
    "    def __init__(self,name,age):\n",
    "        self.name = name\n",
    "        self.age = age\n",
    "s = student(\"ajay\",14)\n",
    "s.age\n",
    "        "
   ]
  },
  {
   "cell_type": "code",
   "execution_count": 2,
   "id": "84f2c21f",
   "metadata": {},
   "outputs": [
    {
     "data": {
      "text/plain": [
       "'ajay'"
      ]
     },
     "execution_count": 2,
     "metadata": {},
     "output_type": "execute_result"
    }
   ],
   "source": [
    "s.name"
   ]
  },
  {
   "cell_type": "markdown",
   "id": "10f2aa2b",
   "metadata": {},
   "source": [
    "#   Inheritance"
   ]
  },
  {
   "cell_type": "code",
   "execution_count": 9,
   "id": "61be8b40",
   "metadata": {},
   "outputs": [
    {
     "data": {
      "text/plain": [
       "38"
      ]
     },
     "execution_count": 9,
     "metadata": {},
     "output_type": "execute_result"
    }
   ],
   "source": [
    "#Method 1----> To pass the inheritance from parent class to child class\n",
    "\n",
    "class parent:\n",
    "    def __init__(self, age,salary):\n",
    "        self.age = age\n",
    "        self.salary = salary\n",
    "        \n",
    "class child(parent):\n",
    "    def __init__(self,age,salary,study):\n",
    "        parent.__init__(self,age,salary)\n",
    "        self.study = study\n",
    "c = child(38,45000,\"study nhi karta\")        \n",
    "c.age     \n",
    "    "
   ]
  },
  {
   "cell_type": "code",
   "execution_count": 10,
   "id": "6b995fc7",
   "metadata": {},
   "outputs": [
    {
     "data": {
      "text/plain": [
       "45000"
      ]
     },
     "execution_count": 10,
     "metadata": {},
     "output_type": "execute_result"
    }
   ],
   "source": [
    "c.salary"
   ]
  },
  {
   "cell_type": "code",
   "execution_count": 11,
   "id": "9897232f",
   "metadata": {},
   "outputs": [
    {
     "data": {
      "text/plain": [
       "'study nhi karta'"
      ]
     },
     "execution_count": 11,
     "metadata": {},
     "output_type": "execute_result"
    }
   ],
   "source": [
    "c.study"
   ]
  },
  {
   "cell_type": "code",
   "execution_count": 12,
   "id": "beb8e866",
   "metadata": {},
   "outputs": [
    {
     "data": {
      "text/plain": [
       "38"
      ]
     },
     "execution_count": 12,
     "metadata": {},
     "output_type": "execute_result"
    }
   ],
   "source": [
    "# Method 2-------> Superior Method\n",
    "\n",
    "class parent:\n",
    "    def __init__(self, age,salary):\n",
    "        self.age = age\n",
    "        self.salary = salary\n",
    "        \n",
    "class child(parent):\n",
    "    def __init__(self,age,salary,study):\n",
    "        super().__init__(age,salary)\n",
    "        self.study = study\n",
    "        \n",
    "c = child(38,45000,\"study nhi karta\")        \n",
    "c.age     \n",
    "    \n"
   ]
  },
  {
   "cell_type": "code",
   "execution_count": 13,
   "id": "06a17d70",
   "metadata": {},
   "outputs": [
    {
     "data": {
      "text/plain": [
       "45000"
      ]
     },
     "execution_count": 13,
     "metadata": {},
     "output_type": "execute_result"
    }
   ],
   "source": [
    "c.salary"
   ]
  },
  {
   "cell_type": "code",
   "execution_count": null,
   "id": "a4f4d2ed",
   "metadata": {},
   "outputs": [],
   "source": []
  }
 ],
 "metadata": {
  "kernelspec": {
   "display_name": "Python 3 (ipykernel)",
   "language": "python",
   "name": "python3"
  },
  "language_info": {
   "codemirror_mode": {
    "name": "ipython",
    "version": 3
   },
   "file_extension": ".py",
   "mimetype": "text/x-python",
   "name": "python",
   "nbconvert_exporter": "python",
   "pygments_lexer": "ipython3",
   "version": "3.9.12"
  }
 },
 "nbformat": 4,
 "nbformat_minor": 5
}
