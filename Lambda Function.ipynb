{
 "cells": [
  {
   "cell_type": "markdown",
   "id": "d06d6198",
   "metadata": {},
   "source": [
    "# Lambda Function\n"
   ]
  },
  {
   "cell_type": "code",
   "execution_count": 37,
   "id": "32c8d45e",
   "metadata": {},
   "outputs": [
    {
     "name": "stdout",
     "output_type": "stream",
     "text": [
      "Enter the number\n",
      "8\n"
     ]
    },
    {
     "data": {
      "text/plain": [
       "64"
      ]
     },
     "execution_count": 37,
     "metadata": {},
     "output_type": "execute_result"
    }
   ],
   "source": [
    "#wap and find square of a number using lambda function.\n",
    "\n",
    "num = int(input(\"Enter the number\\n\"))\n",
    "\n",
    "a = lambda num : num*num\n",
    "a(num)"
   ]
  },
  {
   "cell_type": "code",
   "execution_count": 38,
   "id": "3bde1d3b",
   "metadata": {},
   "outputs": [
    {
     "name": "stdout",
     "output_type": "stream",
     "text": [
      "enter Ist number\n",
      "78\n",
      "enter 2nd number\n",
      "54\n",
      "enter 3rd number\n",
      "21\n"
     ]
    },
    {
     "data": {
      "text/plain": [
       "76.5"
      ]
     },
     "execution_count": 38,
     "metadata": {},
     "output_type": "execute_result"
    }
   ],
   "source": [
    "a = int(input(\"enter Ist number\\n\"))\n",
    "b = int(input(\"enter 2nd number\\n\"))\n",
    "c = int(input(\"enter 3rd number\\n\"))\n",
    "avg = lambda a,b,c : (a+b+c)/2\n",
    "avg(a,b,c)"
   ]
  },
  {
   "cell_type": "code",
   "execution_count": 30,
   "id": "33fc86ee",
   "metadata": {},
   "outputs": [
    {
     "name": "stdout",
     "output_type": "stream",
     "text": [
      "enter the number\n",
      "45\n"
     ]
    },
    {
     "data": {
      "text/plain": [
       "'odd'"
      ]
     },
     "execution_count": 30,
     "metadata": {},
     "output_type": "execute_result"
    }
   ],
   "source": [
    "# wapto find odd and even using lambda function\n",
    "num = int(input(\"enter the number\\n\"))\n",
    "b = lambda num : \"even\" if num%2==0  else \"odd\"\n",
    "b(num)"
   ]
  },
  {
   "cell_type": "code",
   "execution_count": 26,
   "id": "6a5324c7",
   "metadata": {},
   "outputs": [
    {
     "data": {
      "text/plain": [
       "150"
      ]
     },
     "execution_count": 26,
     "metadata": {},
     "output_type": "execute_result"
    }
   ],
   "source": []
  },
  {
   "cell_type": "code",
   "execution_count": 35,
   "id": "8c95ab00",
   "metadata": {},
   "outputs": [
    {
     "name": "stdout",
     "output_type": "stream",
     "text": [
      "Enter the number85\n"
     ]
    },
    {
     "data": {
      "text/plain": [
       "255"
      ]
     },
     "execution_count": 35,
     "metadata": {},
     "output_type": "execute_result"
    }
   ],
   "source": [
    "num = int(input(\"Enter the number\"))\n",
    "a = lambda  num : num*3\n",
    "a(num)"
   ]
  },
  {
   "cell_type": "code",
   "execution_count": 39,
   "id": "19f8f253",
   "metadata": {},
   "outputs": [
    {
     "data": {
      "text/plain": [
       "225"
      ]
     },
     "execution_count": 39,
     "metadata": {},
     "output_type": "execute_result"
    }
   ],
   "source": [
    "# Write a Python program to create a function\n",
    "#  that takes one argument, \n",
    "# and that argument will be multiplied with an \n",
    "#  unknown given number. \n",
    "# Go to the editor\n",
    "# Sample Output:\n",
    "# Double the number of 15 = 30\n",
    "# Triple the number of 15 = 45\n",
    "# Quadruple the number of 15 = 60\n",
    "# Quintuple the number 15 = 75\n",
    "\n",
    "\n",
    "a = lambda num:num*15\n",
    "a(15)"
   ]
  },
  {
   "cell_type": "code",
   "execution_count": 40,
   "id": "44fdb808",
   "metadata": {},
   "outputs": [
    {
     "data": {
      "text/plain": [
       "30"
      ]
     },
     "execution_count": 40,
     "metadata": {},
     "output_type": "execute_result"
    }
   ],
   "source": [
    "a(2)"
   ]
  },
  {
   "cell_type": "code",
   "execution_count": 7,
   "id": "a5cff7ac",
   "metadata": {},
   "outputs": [
    {
     "name": "stdout",
     "output_type": "stream",
     "text": [
      "enter the number 4\n",
      "enter the number 5\n",
      "enter the number 6\n",
      "enter the number 2\n",
      "[4, 5, 6, 2]\n"
     ]
    }
   ],
   "source": [
    "#wap to make list with the help of user input\n",
    "b = []\n",
    "for i in range(1,5):\n",
    "    c = int(input(\"enter the number \"))\n",
    "    b.append(c)\n",
    "print(list(b) )  "
   ]
  },
  {
   "cell_type": "code",
   "execution_count": null,
   "id": "b63e4fc5",
   "metadata": {},
   "outputs": [],
   "source": []
  }
 ],
 "metadata": {
  "kernelspec": {
   "display_name": "Python 3 (ipykernel)",
   "language": "python",
   "name": "python3"
  },
  "language_info": {
   "codemirror_mode": {
    "name": "ipython",
    "version": 3
   },
   "file_extension": ".py",
   "mimetype": "text/x-python",
   "name": "python",
   "nbconvert_exporter": "python",
   "pygments_lexer": "ipython3",
   "version": "3.9.12"
  }
 },
 "nbformat": 4,
 "nbformat_minor": 5
}
