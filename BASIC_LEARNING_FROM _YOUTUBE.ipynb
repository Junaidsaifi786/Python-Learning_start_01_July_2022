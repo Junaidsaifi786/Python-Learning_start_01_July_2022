{
 "cells": [
  {
   "cell_type": "code",
   "execution_count": 10,
   "id": "88c95183",
   "metadata": {},
   "outputs": [
    {
     "name": "stdout",
     "output_type": "stream",
     "text": [
      "hello world\n",
      "hello world\n",
      "hello world\n",
      "hello world\n",
      "hello world\n",
      "hello world\n",
      "hello world\n",
      "hello world\n",
      "hello world\n",
      "hello world\n",
      "\n"
     ]
    }
   ],
   "source": [
    "print(10 * \"hello world\\n\")"
   ]
  },
  {
   "cell_type": "code",
   "execution_count": 5,
   "id": "341e5e23",
   "metadata": {},
   "outputs": [
    {
     "name": "stdout",
     "output_type": "stream",
     "text": [
      "173\n"
     ]
    }
   ],
   "source": [
    "var1 = \"78\"\n",
    "var2 = \"95\"\n",
    "print(int(var1) +int(var2))"
   ]
  },
  {
   "cell_type": "code",
   "execution_count": 20,
   "id": "b4208e58",
   "metadata": {},
   "outputs": [
    {
     "name": "stdout",
     "output_type": "stream",
     "text": [
      "Entered your Number\n",
      "78\n",
      "you entered is 88\n"
     ]
    }
   ],
   "source": [
    "print(\"Entered your Number\")\n",
    "inpnum = int(input())\n",
    "print(\"you entered is\",(inpnum)+10)"
   ]
  },
  {
   "cell_type": "code",
   "execution_count": 1,
   "id": "bbd87aa0",
   "metadata": {},
   "outputs": [
    {
     "name": "stdout",
     "output_type": "stream",
     "text": [
      "[11.5, 33, 45, 65, 78, 89, 98]\n"
     ]
    }
   ],
   "source": [
    "x = [ 78 , 45 , 65 , 98 , 11.5 , 33 , 89 ]\n",
    "x.sort()\n",
    "print (x)"
   ]
  },
  {
   "cell_type": "code",
   "execution_count": 2,
   "id": "f0ae1099",
   "metadata": {},
   "outputs": [],
   "source": [
    "x.sort(reverse=True)"
   ]
  },
  {
   "cell_type": "code",
   "execution_count": 3,
   "id": "7b4869c8",
   "metadata": {},
   "outputs": [
    {
     "data": {
      "text/plain": [
       "[98, 89, 78, 65, 45, 33, 11.5]"
      ]
     },
     "execution_count": 3,
     "metadata": {},
     "output_type": "execute_result"
    }
   ],
   "source": [
    "x"
   ]
  },
  {
   "cell_type": "code",
   "execution_count": 4,
   "id": "40c88f8d",
   "metadata": {},
   "outputs": [
    {
     "name": "stdout",
     "output_type": "stream",
     "text": [
      "[98, 89, 65, 45, 33, 11.5]\n"
     ]
    }
   ],
   "source": [
    "x[2:3]=x[3:2]\n",
    "print(x)"
   ]
  },
  {
   "cell_type": "code",
   "execution_count": null,
   "id": "a7af65b9",
   "metadata": {},
   "outputs": [],
   "source": [
    "#1.Python program to swap two elements in a list\n",
    "#2.Maximum of numbers in a list \n",
    "#3.Minimum of  numbers in list.\n",
    "#4.Python | Reversing a List\n",
    "#5.Python | Sum of number digits in List\n",
    "#6.Python | Multiply all numbers in the list\n",
    "#7.Python program to find second largest number in a list.\n",
    "#8.Python program to count Even and Odd numbers in a List.\n",
    "#9.Python program to print positive numbers in a list.\n",
    "#10.Python program to print negative numbers in a list."
   ]
  }
 ],
 "metadata": {
  "kernelspec": {
   "display_name": "Python 3 (ipykernel)",
   "language": "python",
   "name": "python3"
  },
  "language_info": {
   "codemirror_mode": {
    "name": "ipython",
    "version": 3
   },
   "file_extension": ".py",
   "mimetype": "text/x-python",
   "name": "python",
   "nbconvert_exporter": "python",
   "pygments_lexer": "ipython3",
   "version": "3.9.12"
  }
 },
 "nbformat": 4,
 "nbformat_minor": 5
}
