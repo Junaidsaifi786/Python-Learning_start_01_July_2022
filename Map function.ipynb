{
 "cells": [
  {
   "cell_type": "code",
   "execution_count": 3,
   "id": "5b12b44a",
   "metadata": {},
   "outputs": [
    {
     "data": {
      "text/plain": [
       "[144, 121, 169, 196, 4, 25]"
      ]
     },
     "execution_count": 3,
     "metadata": {},
     "output_type": "execute_result"
    }
   ],
   "source": [
    "x = [12,11,13,14,2,5]\n",
    "list(map(lambda x :x**2,x))"
   ]
  },
  {
   "cell_type": "code",
   "execution_count": 4,
   "id": "9610f75a",
   "metadata": {},
   "outputs": [
    {
     "data": {
      "text/plain": [
       "[15, 14, 16, 17, 5, 8]"
      ]
     },
     "execution_count": 4,
     "metadata": {},
     "output_type": "execute_result"
    }
   ],
   "source": [
    "#wap to add three in the list elements using map function\n",
    "\n",
    "x = [12,11,13,14,2,5]\n",
    "list(map(lambda x:x+3,x))"
   ]
  },
  {
   "cell_type": "code",
   "execution_count": 8,
   "id": "08c5c5ab",
   "metadata": {},
   "outputs": [
    {
     "data": {
      "text/plain": [
       "[12, 11, 13, 14, 2, 5, 3]"
      ]
     },
     "execution_count": 8,
     "metadata": {},
     "output_type": "execute_result"
    }
   ],
   "source": [
    "x = [12,11,13,14,2,5]\n",
    "\n",
    "x.append(3)\n",
    "x"
   ]
  },
  {
   "cell_type": "code",
   "execution_count": 10,
   "id": "583176ab",
   "metadata": {},
   "outputs": [
    {
     "data": {
      "text/plain": [
       "[111, 222, 333, 444, 555, 666]"
      ]
     },
     "execution_count": 10,
     "metadata": {},
     "output_type": "execute_result"
    }
   ],
   "source": [
    "# wap to trippling the number in a list usin map\n",
    "\n",
    "x = [1,2,3,4,5,6]\n",
    "list(map(lambda x : int(3*str(x)),x))\n"
   ]
  },
  {
   "cell_type": "code",
   "execution_count": 3,
   "id": "a47cee28",
   "metadata": {},
   "outputs": [
    {
     "name": "stdout",
     "output_type": "stream",
     "text": [
      "[9, 11, 18, 21]\n"
     ]
    }
   ],
   "source": [
    "#write a python programme to add three given lists using map and lambda\n",
    "\n",
    "x = [1,2,3,4]\n",
    "y = [2,7,8,9]\n",
    "z = [6,2,7,8]\n",
    "h=list(map(lambda x,y,z:x+y+z,x,y,z))"
   ]
  },
  {
   "cell_type": "code",
   "execution_count": null,
   "id": "6969e5c9",
   "metadata": {},
   "outputs": [],
   "source": []
  }
 ],
 "metadata": {
  "kernelspec": {
   "display_name": "Python 3 (ipykernel)",
   "language": "python",
   "name": "python3"
  },
  "language_info": {
   "codemirror_mode": {
    "name": "ipython",
    "version": 3
   },
   "file_extension": ".py",
   "mimetype": "text/x-python",
   "name": "python",
   "nbconvert_exporter": "python",
   "pygments_lexer": "ipython3",
   "version": "3.9.12"
  }
 },
 "nbformat": 4,
 "nbformat_minor": 5
}
