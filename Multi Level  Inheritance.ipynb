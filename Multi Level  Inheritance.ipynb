{
 "cells": [
  {
   "cell_type": "code",
   "execution_count": 1,
   "id": "0635077a",
   "metadata": {},
   "outputs": [
    {
     "data": {
      "text/plain": [
       "21"
      ]
     },
     "execution_count": 1,
     "metadata": {},
     "output_type": "execute_result"
    }
   ],
   "source": [
    "class student:\n",
    "    def func(self,x,y,z):\n",
    "        t_marks = x+y+z\n",
    "        return t_marks\n",
    "\n",
    "ob = student()  \n",
    "ob.func(5,9,7)\n",
    "        "
   ]
  },
  {
   "cell_type": "code",
   "execution_count": 2,
   "id": "2b7d7407",
   "metadata": {},
   "outputs": [
    {
     "name": "stdout",
     "output_type": "stream",
     "text": [
      "112\n"
     ]
    }
   ],
   "source": [
    "def add():\n",
    "    x = 12\n",
    "    y = 100\n",
    "    z = x + y\n",
    "    print(z)\n",
    "add()    \n",
    "    "
   ]
  },
  {
   "cell_type": "code",
   "execution_count": 3,
   "id": "7cbcfa73",
   "metadata": {},
   "outputs": [
    {
     "name": "stdout",
     "output_type": "stream",
     "text": [
      "112\n"
     ]
    }
   ],
   "source": [
    "add()"
   ]
  },
  {
   "cell_type": "code",
   "execution_count": 4,
   "id": "bfe02f67",
   "metadata": {},
   "outputs": [
    {
     "name": "stdout",
     "output_type": "stream",
     "text": [
      "37\n"
     ]
    }
   ],
   "source": [
    "def add(x,y):\n",
    "    add = x+y\n",
    "    print(add)\n",
    "    \n",
    "add(12,25)    "
   ]
  },
  {
   "cell_type": "code",
   "execution_count": 5,
   "id": "ee3b6317",
   "metadata": {},
   "outputs": [
    {
     "name": "stdout",
     "output_type": "stream",
     "text": [
      "612\n"
     ]
    }
   ],
   "source": [
    "#return with no argument\n",
    "\n",
    "def add():\n",
    "    x = 256\n",
    "    y = 356\n",
    "    add = print(x+y)\n",
    "    \n",
    "add()    "
   ]
  },
  {
   "cell_type": "code",
   "execution_count": 6,
   "id": "3e0eb698",
   "metadata": {},
   "outputs": [
    {
     "data": {
      "text/plain": [
       "'Galaxy A20'"
      ]
     },
     "execution_count": 6,
     "metadata": {},
     "output_type": "execute_result"
    }
   ],
   "source": [
    "class samsung:\n",
    "    def __init__(self,price,model,storage):\n",
    "        self.price = price\n",
    "        self.model = model\n",
    "        self.storage = storage\n",
    "        \n",
    "class iphone(samsung):\n",
    "    def __init__(self,price,model,storage,ram):\n",
    "        super().__init__(price,model,storage)\n",
    "        self.ram = ram\n",
    "        \n",
    "ob = iphone('12000RS','Galaxy A20','60','4gb') \n",
    "ob.model"
   ]
  },
  {
   "cell_type": "code",
   "execution_count": 7,
   "id": "ad7c399a",
   "metadata": {},
   "outputs": [
    {
     "data": {
      "text/plain": [
       "'4gb'"
      ]
     },
     "execution_count": 7,
     "metadata": {},
     "output_type": "execute_result"
    }
   ],
   "source": [
    "ob.ram"
   ]
  },
  {
   "cell_type": "code",
   "execution_count": 8,
   "id": "a2cf69af",
   "metadata": {},
   "outputs": [
    {
     "ename": "SyntaxError",
     "evalue": "invalid syntax (2476139175.py, line 2)",
     "output_type": "error",
     "traceback": [
      "\u001b[1;36m  Input \u001b[1;32mIn [8]\u001b[1;36m\u001b[0m\n\u001b[1;33m    def __init __(self,age):\u001b[0m\n\u001b[1;37m               ^\u001b[0m\n\u001b[1;31mSyntaxError\u001b[0m\u001b[1;31m:\u001b[0m invalid syntax\n"
     ]
    }
   ],
   "source": [
    "class gpc:\n",
    "    def __init __(self,age):\n",
    "        self.age = age\n",
    "        \n",
    "class pc(gpc):\n",
    "    def __init__(self,name,age):\n",
    "        super().__init__(age)\n",
    "        self.name = name\n",
    "        \n",
    "class cc:\n",
    "    def __init __(self,salary):\n",
    "        self.salary = salary\n",
    "        \n",
    "ob = pc(\"Abdul\",'45') \n",
    "ob.age\n",
    "\n",
    "    "
   ]
  },
  {
   "cell_type": "code",
   "execution_count": 20,
   "id": "b3591eea",
   "metadata": {},
   "outputs": [
    {
     "ename": "SyntaxError",
     "evalue": "invalid syntax (2903080978.py, line 2)",
     "output_type": "error",
     "traceback": [
      "\u001b[1;36m  Input \u001b[1;32mIn [20]\u001b[1;36m\u001b[0m\n\u001b[1;33m    def __init __(self,age):\u001b[0m\n\u001b[1;37m               ^\u001b[0m\n\u001b[1;31mSyntaxError\u001b[0m\u001b[1;31m:\u001b[0m invalid syntax\n"
     ]
    }
   ],
   "source": [
    "class gpc:\n",
    "    def __init __(self,age):\n",
    "        self.age = age\n",
    "        \n",
    "class pc(gpc):\n",
    "    def __init__(self,age,name):\n",
    "        super().__init__(age)\n",
    "        self.name = name\n",
    "        \n",
    "class cc:\n",
    "    def __init __(self,salary):\n",
    "        self.salary = salary\n",
    "        \n",
    "ob = pc(\"Abdul\",'45') \n",
    "ob.age\n",
    "\n",
    "    "
   ]
  },
  {
   "cell_type": "code",
   "execution_count": 23,
   "id": "0faac412",
   "metadata": {},
   "outputs": [
    {
     "data": {
      "text/plain": [
       "'71'"
      ]
     },
     "execution_count": 23,
     "metadata": {},
     "output_type": "execute_result"
    }
   ],
   "source": [
    "# Level 1 inheritance (grand parent class to parent class)\n",
    "\n",
    "class gpc:\n",
    "    def __init__(self,age):\n",
    "        self.age = age\n",
    "        \n",
    "class pc(gpc):\n",
    "    def __init__(self,age,name):\n",
    "        super().__init__(age)\n",
    "        self.name = name\n",
    "        \n",
    "class cc:\n",
    "    def __init__(self,salary):\n",
    "      #  super().__init__(name)\n",
    "        self.salary = salary\n",
    "        \n",
    "ob = pc('71','Abdul')\n",
    "ob.age"
   ]
  },
  {
   "cell_type": "code",
   "execution_count": 55,
   "id": "c1ad24a4",
   "metadata": {},
   "outputs": [
    {
     "data": {
      "text/plain": [
       "'Abdul'"
      ]
     },
     "execution_count": 55,
     "metadata": {},
     "output_type": "execute_result"
    }
   ],
   "source": [
    "# Level 2 inheritance (parent class to child class)\n",
    "                                                        #super method give direct access to the attributes of child classes so \n",
    "class gpc:                                              # due to which we can accesss the attributes directly.\n",
    "    def __init__(self,age):                             \n",
    "        self.age = age                        # But in parent method it does not give the direct accesss of the attributes to\n",
    "                                            # child classes so why we use self in this method\n",
    "class pc:\n",
    "    def __init__(self,name):\n",
    "       # super().__init__(age)\n",
    "        self.name = name\n",
    "        \n",
    "class cc(pc):\n",
    "    def __init__(self,name,salary):\n",
    "        pc. __init__(self,name)    # we can super method super(). __init__(name)\n",
    "        self.salary = salary\n",
    "        \n",
    "ob = cc('Abdul',45000)\n",
    "ob.name"
   ]
  },
  {
   "cell_type": "code",
   "execution_count": 13,
   "id": "12def2c2",
   "metadata": {},
   "outputs": [
    {
     "data": {
      "text/plain": [
       "'45'"
      ]
     },
     "execution_count": 13,
     "metadata": {},
     "output_type": "execute_result"
    }
   ],
   "source": [
    "ob.age"
   ]
  },
  {
   "cell_type": "code",
   "execution_count": 19,
   "id": "89afc12f",
   "metadata": {},
   "outputs": [
    {
     "data": {
      "text/plain": [
       "'Abdul'"
      ]
     },
     "execution_count": 19,
     "metadata": {},
     "output_type": "execute_result"
    }
   ],
   "source": [
    "ob.name"
   ]
  },
  {
   "cell_type": "code",
   "execution_count": 25,
   "id": "26a5d586",
   "metadata": {},
   "outputs": [
    {
     "data": {
      "text/plain": [
       "'45000'"
      ]
     },
     "execution_count": 25,
     "metadata": {},
     "output_type": "execute_result"
    }
   ],
   "source": [
    "# Level 3 Inheritance (grand parent to child class)\n",
    "\n",
    "class gpc:\n",
    "    def __init__(self,age):\n",
    "        self.age = age\n",
    "class pc:\n",
    "    def __init__(self,name):\n",
    "        self.name = name\n",
    "        \n",
    "class cc(gpc):\n",
    "    def __init__(self,age,salary):\n",
    "        super().__init__(age)\n",
    "        self.salary=(salary)    \n",
    "ob = cc('71','45000')    \n",
    "ob.salary\n",
    "        \n"
   ]
  },
  {
   "cell_type": "code",
   "execution_count": 54,
   "id": "d3306d79",
   "metadata": {},
   "outputs": [
    {
     "data": {
      "text/plain": [
       "'45000'"
      ]
     },
     "execution_count": 54,
     "metadata": {},
     "output_type": "execute_result"
    }
   ],
   "source": [
    "# Level 4 Multilevel Inheritance (grand parent to parentclass, parent class to child class):\n",
    "\n",
    "class gpc:\n",
    "    def __init__(self,age):\n",
    "        self.age = age\n",
    "        \n",
    "class pc(gpc):\n",
    "    def __init__(self,age,name):\n",
    "        super().__init__(age)\n",
    "        self.name = name\n",
    "        \n",
    "class cc(pc):\n",
    "    def __init__(self,age,name,salary):\n",
    "        super().__init__(age,name)\n",
    "        self.salary = salary\n",
    "        \n",
    "ob = cc('71','Abdul','45000')        \n",
    "ob.salary"
   ]
  },
  {
   "cell_type": "code",
   "execution_count": 27,
   "id": "f5f4432b",
   "metadata": {},
   "outputs": [
    {
     "data": {
      "text/plain": [
       "'71'"
      ]
     },
     "execution_count": 27,
     "metadata": {},
     "output_type": "execute_result"
    }
   ],
   "source": [
    "ob.age"
   ]
  },
  {
   "cell_type": "code",
   "execution_count": 43,
   "id": "706bae13",
   "metadata": {},
   "outputs": [
    {
     "ename": "AttributeError",
     "evalue": "'cc' object has no attribute 'name'",
     "output_type": "error",
     "traceback": [
      "\u001b[1;31m---------------------------------------------------------------------------\u001b[0m",
      "\u001b[1;31mAttributeError\u001b[0m                            Traceback (most recent call last)",
      "Input \u001b[1;32mIn [43]\u001b[0m, in \u001b[0;36m<cell line: 20>\u001b[1;34m()\u001b[0m\n\u001b[0;32m     17\u001b[0m         \u001b[38;5;28mself\u001b[39m\u001b[38;5;241m.\u001b[39msalary \u001b[38;5;241m=\u001b[39m salary\n\u001b[0;32m     19\u001b[0m ob \u001b[38;5;241m=\u001b[39m cc(\u001b[38;5;124m'\u001b[39m\u001b[38;5;124m71\u001b[39m\u001b[38;5;124m'\u001b[39m,\u001b[38;5;124m'\u001b[39m\u001b[38;5;124mAbdul\u001b[39m\u001b[38;5;124m'\u001b[39m,\u001b[38;5;124m'\u001b[39m\u001b[38;5;124m45000\u001b[39m\u001b[38;5;124m'\u001b[39m)\n\u001b[1;32m---> 20\u001b[0m \u001b[43mob\u001b[49m\u001b[38;5;241;43m.\u001b[39;49m\u001b[43mname\u001b[49m\n",
      "\u001b[1;31mAttributeError\u001b[0m: 'cc' object has no attribute 'name'"
     ]
    }
   ],
   "source": [
    "# Hybrid method = In this method we can inherit the proprties or a attributes of two classes in a child class. but in this \n",
    "# case it is mandatory the two classes before the child class does not have inter link with each othero006n \n",
    "\n",
    "class gpc:\n",
    "    def __init__(self,age):\n",
    "        self.age = age\n",
    "        \n",
    "class pc:\n",
    "    def __init__(self,name):\n",
    "       # super().__init__(age)\n",
    "        self.name = name\n",
    "        \n",
    "class cc(gpc,pc):\n",
    "    def __init__(self,age,name,salary):\n",
    "        super().__init__(name)\n",
    "        super().__init__(age)\n",
    "        self.salary = salary\n",
    "        \n",
    "ob = cc('71','Abdul','45000')\n",
    "ob.name"
   ]
  },
  {
   "cell_type": "code",
   "execution_count": 50,
   "id": "2221c134",
   "metadata": {},
   "outputs": [
    {
     "data": {
      "text/plain": [
       "'A'"
      ]
     },
     "execution_count": 50,
     "metadata": {},
     "output_type": "execute_result"
    }
   ],
   "source": [
    "\n",
    "\n",
    "\n",
    "class gpc:\n",
    "    def __init__(self,name):\n",
    "        self.name = name\n",
    "    \n",
    "    \n",
    "class pc:\n",
    "    def __init__(self,age):\n",
    "        self.age = age\n",
    "        \n",
    "    \n",
    "class cc(gpc,pc):\n",
    "    def __init__(self,name,age,sal):\n",
    "        super().__init__(age)\n",
    "        super().__init__(name)\n",
    "        self.sal = sal\n",
    "        \n",
    "\n",
    "p = cc(\"A\",23,78000)\n",
    "p.name"
   ]
  },
  {
   "cell_type": "code",
   "execution_count": 51,
   "id": "47500aee",
   "metadata": {},
   "outputs": [
    {
     "ename": "AttributeError",
     "evalue": "'cc' object has no attribute 'age'",
     "output_type": "error",
     "traceback": [
      "\u001b[1;31m---------------------------------------------------------------------------\u001b[0m",
      "\u001b[1;31mAttributeError\u001b[0m                            Traceback (most recent call last)",
      "Input \u001b[1;32mIn [51]\u001b[0m, in \u001b[0;36m<cell line: 1>\u001b[1;34m()\u001b[0m\n\u001b[1;32m----> 1\u001b[0m \u001b[43mp\u001b[49m\u001b[38;5;241;43m.\u001b[39;49m\u001b[43mage\u001b[49m\n",
      "\u001b[1;31mAttributeError\u001b[0m: 'cc' object has no attribute 'age'"
     ]
    }
   ],
   "source": [
    "p.age"
   ]
  },
  {
   "cell_type": "code",
   "execution_count": 52,
   "id": "c8cc3bcd",
   "metadata": {},
   "outputs": [
    {
     "data": {
      "text/plain": [
       "78000"
      ]
     },
     "execution_count": 52,
     "metadata": {},
     "output_type": "execute_result"
    }
   ],
   "source": [
    "p.sal"
   ]
  },
  {
   "cell_type": "code",
   "execution_count": null,
   "id": "fcf0848c",
   "metadata": {},
   "outputs": [],
   "source": []
  }
 ],
 "metadata": {
  "kernelspec": {
   "display_name": "Python 3 (ipykernel)",
   "language": "python",
   "name": "python3"
  },
  "language_info": {
   "codemirror_mode": {
    "name": "ipython",
    "version": 3
   },
   "file_extension": ".py",
   "mimetype": "text/x-python",
   "name": "python",
   "nbconvert_exporter": "python",
   "pygments_lexer": "ipython3",
   "version": "3.9.12"
  }
 },
 "nbformat": 4,
 "nbformat_minor": 5
}
