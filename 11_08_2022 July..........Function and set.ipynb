{
 "cells": [
  {
   "cell_type": "code",
   "execution_count": 2,
   "id": "326e379b",
   "metadata": {},
   "outputs": [
    {
     "name": "stdout",
     "output_type": "stream",
     "text": [
      "{'name': ['A', 'b', 'c'], 'age': (23, 24, 25, 28), 'marks': (34.9, 48, 85)}\n"
     ]
    }
   ],
   "source": [
    "x = { 'name':['A','b','c'],\n",
    "     'age' :(23,24,25,28),\n",
    "     'marks':(34.9,48,85)\n",
    "    }\n",
    "print(x)"
   ]
  },
  {
   "cell_type": "code",
   "execution_count": 3,
   "id": "5aab0d74",
   "metadata": {},
   "outputs": [
    {
     "data": {
      "text/plain": [
       "dict"
      ]
     },
     "execution_count": 3,
     "metadata": {},
     "output_type": "execute_result"
    }
   ],
   "source": [
    "type(x)"
   ]
  },
  {
   "cell_type": "code",
   "execution_count": 5,
   "id": "be8b7d15",
   "metadata": {},
   "outputs": [
    {
     "name": "stdout",
     "output_type": "stream",
     "text": [
      "{'Junaid', 8.45, 'python', 78, 'SQL'}\n"
     ]
    }
   ],
   "source": [
    "x= { 8.45,78,'python','SQL','Junaid'}\n",
    "print(x)"
   ]
  },
  {
   "cell_type": "code",
   "execution_count": 6,
   "id": "7b872cf3",
   "metadata": {},
   "outputs": [
    {
     "data": {
      "text/plain": [
       "set"
      ]
     },
     "execution_count": 6,
     "metadata": {},
     "output_type": "execute_result"
    }
   ],
   "source": [
    "type(x)"
   ]
  },
  {
   "cell_type": "code",
   "execution_count": 15,
   "id": "1b741119",
   "metadata": {},
   "outputs": [
    {
     "ename": "IndentationError",
     "evalue": "unindent does not match any outer indentation level (<tokenize>, line 6)",
     "output_type": "error",
     "traceback": [
      "\u001b[1;36m  File \u001b[1;32m<tokenize>:6\u001b[1;36m\u001b[0m\n\u001b[1;33m    add()\u001b[0m\n\u001b[1;37m    ^\u001b[0m\n\u001b[1;31mIndentationError\u001b[0m\u001b[1;31m:\u001b[0m unindent does not match any outer indentation level\n"
     ]
    }
   ],
   "source": [
    "................................................................................................................................................................................................................................................................................................def add():\n",
    "    a = 12\n",
    "    b = 13\n",
    "    add = int(a) + int(b)\n",
    "    print(add)\n",
    "0a.-*9685201\n",
    "3.\n",
    "+63201\\]012548796+*-9/854210+-*9/+8dd()\n"
   ]
  },
  {
   "cell_type": "code",
   "execution_count": 16,
   "id": "d9249bd2",
   "metadata": {},
   "outputs": [
    {
     "data": {
      "text/plain": [
       "12"
      ]
     },
     "execution_count": 16,
     "metadata": {},
     "output_type": "execute_result"
    }
   ],
   "source": [
    "#no argument with return\n",
    "\n",
    "\n",
    "def func():\n",
    "    \n",
    "    a = 5\n",
    "    b = 7\n",
    "    x = a +b\n",
    "    return(x)\n",
    "func()\n",
    "    "
   ]
  },
  {
   "cell_type": "code",
   "execution_count": null,
   "id": "c31bd88e",
   "metadata": {},
   "outputs": [],
   "source": [
    "def salary(salary,leaves):\n",
    "    if leaves>12:\n",
    "        ded = (salary*7.5)/100\n",
    "        total_sal\n",
    "        "
   ]
  }
 ],
 "metadata": {
  "kernelspec": {
   "display_name": "Python 3 (ipykernel)",
   "language": "python",
   "name": "python3"
  },
  "language_info": {
   "codemirror_mode": {
    "name": "ipython",
    "version": 3
   },
   "file_extension": ".py",
   "mimetype": "text/x-python",
   "name": "python",
   "nbconvert_exporter": "python",
   "pygments_lexer": "ipython3",
   "version": "3.9.12"
  }
 },
 "nbformat": 4,
 "nbformat_minor": 5
}
