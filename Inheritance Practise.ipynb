{
 "cells": [
  {
   "cell_type": "markdown",
   "id": "77d53588",
   "metadata": {},
   "source": [
    "# Practise of Inheritance\n"
   ]
  },
  {
   "cell_type": "code",
   "execution_count": 18,
   "id": "cc16b0b1",
   "metadata": {},
   "outputs": [
    {
     "ename": "TypeError",
     "evalue": "object.__init__() takes exactly one argument (the instance to initialize)",
     "output_type": "error",
     "traceback": [
      "\u001b[1;31m---------------------------------------------------------------------------\u001b[0m",
      "\u001b[1;31mTypeError\u001b[0m                                 Traceback (most recent call last)",
      "Input \u001b[1;32mIn [18]\u001b[0m, in \u001b[0;36m<cell line: 17>\u001b[1;34m()\u001b[0m\n\u001b[0;32m     14\u001b[0m         \u001b[38;5;28msuper\u001b[39m()\u001b[38;5;241m.\u001b[39m\u001b[38;5;21m__init__\u001b[39m(price,model,storage)\n\u001b[0;32m     15\u001b[0m         \u001b[38;5;28mself\u001b[39m\u001b[38;5;241m.\u001b[39mram \u001b[38;5;241m=\u001b[39m ram\n\u001b[1;32m---> 17\u001b[0m i \u001b[38;5;241m=\u001b[39m \u001b[43miphone\u001b[49m\u001b[43m(\u001b[49m\u001b[38;5;241;43m120000\u001b[39;49m\u001b[43m,\u001b[49m\u001b[38;5;124;43m'\u001b[39;49m\u001b[38;5;124;43mZ fold\u001b[39;49m\u001b[38;5;124;43m'\u001b[39;49m\u001b[43m,\u001b[49m\u001b[38;5;241;43m128\u001b[39;49m\u001b[43m,\u001b[49m\u001b[38;5;124;43m'\u001b[39;49m\u001b[38;5;124;43m4gb\u001b[39;49m\u001b[38;5;124;43m'\u001b[39;49m\u001b[43m)\u001b[49m \n\u001b[0;32m     18\u001b[0m i\u001b[38;5;241m.\u001b[39mmodel\n",
      "Input \u001b[1;32mIn [18]\u001b[0m, in \u001b[0;36miphone.__init__\u001b[1;34m(self, price, model, storage, ram)\u001b[0m\n\u001b[0;32m     13\u001b[0m \u001b[38;5;28;01mdef\u001b[39;00m \u001b[38;5;21m__init__\u001b[39m(\u001b[38;5;28mself\u001b[39m,price,model,storage,ram):\n\u001b[1;32m---> 14\u001b[0m     \u001b[38;5;28;43msuper\u001b[39;49m\u001b[43m(\u001b[49m\u001b[43m)\u001b[49m\u001b[38;5;241;43m.\u001b[39;49m\u001b[38;5;21;43m__init__\u001b[39;49m\u001b[43m(\u001b[49m\u001b[43mprice\u001b[49m\u001b[43m,\u001b[49m\u001b[43mmodel\u001b[49m\u001b[43m,\u001b[49m\u001b[43mstorage\u001b[49m\u001b[43m)\u001b[49m\n\u001b[0;32m     15\u001b[0m     \u001b[38;5;28mself\u001b[39m\u001b[38;5;241m.\u001b[39mram \u001b[38;5;241m=\u001b[39m ram\n",
      "\u001b[1;31mTypeError\u001b[0m: object.__init__() takes exactly one argument (the instance to initialize)"
     ]
    }
   ],
   "source": [
    "#wap to inherit the the property of phone class to another\n",
    "# phone class and you must have atleast one unique\n",
    "# property in both the classes.\n",
    "\n",
    "class samsung:\n",
    "    def __int__(self,price,model,storage):\n",
    "        self.price = price\n",
    "        self.model = model\n",
    "        self.storage = storage\n",
    "        \n",
    "        \n",
    "class iphone(samsung):\n",
    "    def __init__(self,price,model,storage,ram):\n",
    "        super().__init__(price,model,storage)\n",
    "        self.ram = ram\n",
    "        \n",
    "i = iphone(120000,'Z fold',128,'4gb') \n",
    "i.model\n",
    "    "
   ]
  },
  {
   "cell_type": "code",
   "execution_count": 19,
   "id": "004a8ed3",
   "metadata": {},
   "outputs": [
    {
     "data": {
      "text/plain": [
       "'Jhndu'"
      ]
     },
     "execution_count": 19,
     "metadata": {},
     "output_type": "execute_result"
    }
   ],
   "source": [
    "class nokia:\n",
    "    def __init__(self,price,model,version):\n",
    "        self.price = price\n",
    "        self.model = model\n",
    "        self.version = version\n",
    "        \n",
    "class iphone(nokia):\n",
    "    def __init__(self,price,model,version,camera):\n",
    "        super().__init__(price,model,version)\n",
    "        self.camera = camera\n",
    "        \n",
    "        \n",
    "\n",
    "i = iphone(23,'Jhndu',3.1,'Kaam ni krta')\n",
    "i.model\n",
    "        "
   ]
  },
  {
   "cell_type": "code",
   "execution_count": null,
   "id": "ca405bf5",
   "metadata": {},
   "outputs": [],
   "source": []
  }
 ],
 "metadata": {
  "kernelspec": {
   "display_name": "Python 3 (ipykernel)",
   "language": "python",
   "name": "python3"
  },
  "language_info": {
   "codemirror_mode": {
    "name": "ipython",
    "version": 3
   },
   "file_extension": ".py",
   "mimetype": "text/x-python",
   "name": "python",
   "nbconvert_exporter": "python",
   "pygments_lexer": "ipython3",
   "version": "3.9.12"
  }
 },
 "nbformat": 4,
 "nbformat_minor": 5
}
