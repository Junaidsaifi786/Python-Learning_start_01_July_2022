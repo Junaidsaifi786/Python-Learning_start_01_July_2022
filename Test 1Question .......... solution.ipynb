{
 "cells": [
  {
   "cell_type": "code",
   "execution_count": 8,
   "id": "72204e08",
   "metadata": {},
   "outputs": [
    {
     "name": "stdout",
     "output_type": "stream",
     "text": [
      "Enter the number78\n",
      "number is not divisible\n"
     ]
    }
   ],
   "source": [
    "a = int(input(\"Enter the number\"))\n",
    "if a % 5==0 and a %5 ==0:\n",
    "    print(\"number is divisible by 5 and 11\")\n",
    "else:\n",
    "    print(\"number is not divisible\")\n",
    "    "
   ]
  },
  {
   "cell_type": "code",
   "execution_count": 23,
   "id": "0529e318",
   "metadata": {},
   "outputs": [
    {
     "name": "stdout",
     "output_type": "stream",
     "text": [
      "enter the selling price82\n",
      "enter the cost price92\n",
      "loss 10\n"
     ]
    }
   ],
   "source": [
    "# wap to find profit and loss\n",
    "sp = int(input(\"enter the selling price\"))\n",
    "cp = int(input(\"enter the cost price\"))\n",
    "if sp>cp:\n",
    "    profit = sp - cp\n",
    "    print(\"profit\",profit)\n",
    "else:\n",
    "    loss = cp - sp\n",
    "\n",
    "    print(\"loss\",loss)"
   ]
  },
  {
   "cell_type": "code",
   "execution_count": 11,
   "id": "44dfccbe",
   "metadata": {},
   "outputs": [
    {
     "name": "stdout",
     "output_type": "stream",
     "text": [
      "11.0\n"
     ]
    }
   ],
   "source": [
    "# wap to find the average of number in a list in python\n",
    "\n",
    "a = [1,2,3,4,5,7]\n",
    "y = 0\n",
    "for i in a:\n",
    "    y = y + i\n",
    "    avg = y/2\n",
    "print(avg)"
   ]
  },
  {
   "cell_type": "code",
   "execution_count": 17,
   "id": "beb50552",
   "metadata": {},
   "outputs": [
    {
     "name": "stdout",
     "output_type": "stream",
     "text": [
      "enter the number0\n",
      "number is positive\n"
     ]
    }
   ],
   "source": [
    "num = int(input(\"enter the number\"))\n",
    "if num == +num:\n",
    "      print(\"number is positive\")\n",
    "elif num== -(num):\n",
    "    print(\"number is negative\")\n",
    "else:\n",
    "    (\"print number is zero\")"
   ]
  },
  {
   "cell_type": "code",
   "execution_count": 18,
   "id": "3ff30cee",
   "metadata": {},
   "outputs": [],
   "source": [
    "# reverse a number in python\n",
    "\n",
    "a = [12,132,45,48,20]\n",
    "a.reverse()"
   ]
  },
  {
   "cell_type": "code",
   "execution_count": 19,
   "id": "b2eead62",
   "metadata": {},
   "outputs": [
    {
     "name": "stdout",
     "output_type": "stream",
     "text": [
      "[20, 48, 45, 132, 12]\n"
     ]
    }
   ],
   "source": [
    "print(a)"
   ]
  },
  {
   "cell_type": "code",
   "execution_count": 20,
   "id": "039ddb69",
   "metadata": {},
   "outputs": [
    {
     "name": "stdout",
     "output_type": "stream",
     "text": [
      "98 78\n"
     ]
    }
   ],
   "source": [
    "# wap to swap two number without using third variable\n",
    "\n",
    "a = 78\n",
    "b = 98\n",
    "(a,b) = (b,a)\n",
    "print(a,b)"
   ]
  },
  {
   "cell_type": "code",
   "execution_count": 24,
   "id": "48775683",
   "metadata": {},
   "outputs": [
    {
     "ename": "NameError",
     "evalue": "name 'lag_listtuple' is not defined",
     "output_type": "error",
     "traceback": [
      "\u001b[1;31m---------------------------------------------------------------------------\u001b[0m",
      "\u001b[1;31mNameError\u001b[0m                                 Traceback (most recent call last)",
      "Input \u001b[1;32mIn [24]\u001b[0m, in \u001b[0;36m<cell line: 3>\u001b[1;34m()\u001b[0m\n\u001b[0;32m      1\u001b[0m \u001b[38;5;66;03m# sort list of tuples\u001b[39;00m\n\u001b[0;32m      2\u001b[0m lang_listtuple \u001b[38;5;241m=\u001b[39m [(\u001b[38;5;124m'\u001b[39m\u001b[38;5;124mc#\u001b[39m\u001b[38;5;124m'\u001b[39m,\u001b[38;5;241m1\u001b[39m),(\u001b[38;5;124m\"\u001b[39m\u001b[38;5;124mGo\u001b[39m\u001b[38;5;124m\"\u001b[39m,\u001b[38;5;241m7\u001b[39m),(\u001b[38;5;124m'\u001b[39m\u001b[38;5;124mBasic\u001b[39m\u001b[38;5;124m'\u001b[39m,\u001b[38;5;241m8\u001b[39m),(\u001b[38;5;124m'\u001b[39m\u001b[38;5;124mPython\u001b[39m\u001b[38;5;124m'\u001b[39m,\u001b[38;5;241m60\u001b[39m)]\n\u001b[1;32m----> 3\u001b[0m \u001b[43mlag_listtuple\u001b[49m\u001b[38;5;241m.\u001b[39msort()\n\u001b[0;32m      4\u001b[0m \u001b[38;5;28mprint\u001b[39m(lang_listtuple)\n",
      "\u001b[1;31mNameError\u001b[0m: name 'lag_listtuple' is not defined"
     ]
    }
   ],
   "source": [
    "# sort list of tuples\n",
    "lang_listtuple = [('c#',1),(\"Go\",7),('Basic',8),('Python',60)]\n",
    "lag_listtuple.sort()\n",
    "print(lang_listtuple)"
   ]
  },
  {
   "cell_type": "code",
   "execution_count": 27,
   "id": "5a8baf7b",
   "metadata": {},
   "outputs": [
    {
     "name": "stdout",
     "output_type": "stream",
     "text": [
      "{'name': 'dog', 'age': 'dog', 'weight': 4, 'country': 'california'}\n"
     ]
    }
   ],
   "source": [
    "#wap to delete set of keys in dict\n",
    "animaldict = {\"name\":\"dog\",\n",
    "             \"age\":\"dog\",\n",
    "             \"weight\":4,\n",
    "             \"country\":\"california\"}\n",
    "print(animaldict)"
   ]
  },
  {
   "cell_type": "code",
   "execution_count": 28,
   "id": "390264fc",
   "metadata": {},
   "outputs": [
    {
     "ename": "AttributeError",
     "evalue": "'dict' object has no attribute 'remove'",
     "output_type": "error",
     "traceback": [
      "\u001b[1;31m---------------------------------------------------------------------------\u001b[0m",
      "\u001b[1;31mAttributeError\u001b[0m                            Traceback (most recent call last)",
      "Input \u001b[1;32mIn [28]\u001b[0m, in \u001b[0;36m<cell line: 1>\u001b[1;34m()\u001b[0m\n\u001b[1;32m----> 1\u001b[0m \u001b[43manimaldict\u001b[49m\u001b[38;5;241;43m.\u001b[39;49m\u001b[43mremove\u001b[49m(\u001b[38;5;124m\"\u001b[39m\u001b[38;5;124mname\u001b[39m\u001b[38;5;124m\"\u001b[39m,\u001b[38;5;124m\"\u001b[39m\u001b[38;5;124mage\u001b[39m\u001b[38;5;124m\"\u001b[39m)\n",
      "\u001b[1;31mAttributeError\u001b[0m: 'dict' object has no attribute 'remove'"
     ]
    }
   ],
   "source": [
    "animaldict.remove(\"name\",\"age\")"
   ]
  },
  {
   "cell_type": "code",
   "execution_count": 6,
   "id": "7664da4e",
   "metadata": {},
   "outputs": [
    {
     "name": "stdout",
     "output_type": "stream",
     "text": [
      "enter the principle10000\n",
      "enter the rate2\n",
      "enter the time3\n",
      "the value of si and ci is 600.0 10612.080000000002\n"
     ]
    }
   ],
   "source": [
    "# find simple interest and compound interest\n",
    "\n",
    "principal = int(input(\"enter the principle\"))\n",
    "rate = int(input(\"enter the rate\"))\n",
    "time = int(input(\"enter the time\"))\n",
    "\n",
    "si = (principal*rate*time)/100\n",
    "ci = principal*(pow((1+rate/100),time))\n",
    "print(\"the value of si and ci is\",si,ci)"
   ]
  },
  {
   "cell_type": "code",
   "execution_count": 1,
   "id": "c88c2d02",
   "metadata": {},
   "outputs": [],
   "source": [
    "#1.Difference Between append and insert in python\n",
    "#append = 1.we can add the item at the end in the  list , tuples\n",
    "# 2. The argument pass in the list is added as a single element at the end of list\n",
    "# 3. The length of the list is increased by 1\n",
    "\n",
    "#insert = In this function we can insert the value at any desired position in the list"
   ]
  },
  {
   "cell_type": "code",
   "execution_count": 5,
   "id": "2fd4d3a3",
   "metadata": {},
   "outputs": [],
   "source": [
    "# 2.Differentiate remove, del, and pop in python\n",
    "\n",
    "\n",
    "# Remove = we can remove the desired item in the list\n",
    "# pop = we can only remove single element at the end of the list."
   ]
  },
  {
   "cell_type": "code",
   "execution_count": 7,
   "id": "3f0fb715",
   "metadata": {},
   "outputs": [],
   "source": [
    "#There are three ways you can call range() : \n",
    "#range(stop) takes one argument.\n",
    "#range(start, stop) takes two arguments.\n",
    "#range(start, stop, step) takes three arguments."
   ]
  },
  {
   "cell_type": "code",
   "execution_count": 8,
   "id": "125f4117",
   "metadata": {},
   "outputs": [
    {
     "name": "stdout",
     "output_type": "stream",
     "text": [
      "22\n"
     ]
    }
   ],
   "source": [
    "# how to reverese a string using index method\n",
    "\n",
    "mystr = \"  hello....How r u sir\"\n",
    "print(len(mystr))"
   ]
  },
  {
   "cell_type": "code",
   "execution_count": 14,
   "id": "98ad2bd3",
   "metadata": {},
   "outputs": [
    {
     "name": "stdout",
     "output_type": "stream",
     "text": [
      "i \n"
     ]
    }
   ],
   "source": [
    "print(mystr[-2:-6:-2])"
   ]
  },
  {
   "cell_type": "code",
   "execution_count": 8,
   "id": "f187f5f2",
   "metadata": {},
   "outputs": [],
   "source": [
    "#  6.Write a Program to print all prime numbers from 10-50.\n",
    "\n",
    "num = 7\n",
    "if num>1:\n",
    "    for i in range(2,num):\n",
    "        if num % i ==0:\n",
    "            \n",
    "            print(num,\"not prime\")\n",
    "            break\n",
    "        else:\n",
    "            (num,\"prime no\")      \n",
    "else:\n",
    "    print(num,\"not prime\")"
   ]
  },
  {
   "cell_type": "code",
   "execution_count": 4,
   "id": "4cc7e2c6",
   "metadata": {},
   "outputs": [
    {
     "name": "stdout",
     "output_type": "stream",
     "text": [
      "hell0\n"
     ]
    }
   ],
   "source": [
    "print(\"hell0\")"
   ]
  },
  {
   "cell_type": "code",
   "execution_count": 57,
   "id": "12110a04",
   "metadata": {},
   "outputs": [
    {
     "name": "stdout",
     "output_type": "stream",
     "text": [
      "enter the number45\n",
      "not divisible\n"
     ]
    }
   ],
   "source": [
    "#11.1WAP to check a number is divisible by 5 and 11 or not\n",
    "\n",
    "num = int(input(\"enter the number\"))\n",
    "if num%5==0 and num%11==0:\n",
    "    print(num,\"number is divisible by 11 and 5\")\n",
    "else:\n",
    "    print(\"not divisible\")"
   ]
  },
  {
   "cell_type": "code",
   "execution_count": 2,
   "id": "10ec49ae",
   "metadata": {},
   "outputs": [
    {
     "name": "stdout",
     "output_type": "stream",
     "text": [
      "Enter the basic salary25000\n",
      "32125.0\n"
     ]
    }
   ],
   "source": [
    "#13.WAP to Input the basic salary of employee & calculate its gross salary   Basic Salary <= 10000 : HRA = 20%, DA = 80%\n",
    "#Basic Salary <= 20000 : HRA = 25%, DA = 90%\n",
    "#Basic Salary > 20000 : HRA = 30%, DA = 95%\n",
    "\n",
    "\n",
    "bas_salary = int(input(\"Enter the basic salary\"))\n",
    "if bas_salary<=10000:\n",
    "    t_salary = bas_salary*(20/100)*(80/100)\n",
    "    g_salary = t_salary + bas_salary\n",
    "    print(g_salary)\n",
    "\n",
    "elif bas_salary<=20000:\n",
    "    t_salary = bas_salary *(25/100)*(90/100)\n",
    "    g_salary = bas_salary + t_salary\n",
    "    print(g_salary)\n",
    "\n",
    "elif bas_salary>20000:\n",
    "    t_salary  = (bas_salary*30*95)/10000\n",
    "    g_salary = bas_salary + t_salary\n",
    "    print(g_salary)\n",
    "    \n",
    "       \n",
    "\n",
    "\n",
    "        \n",
    "    \n",
    "    \n",
    "  \n",
    "\n",
    "    \n"
   ]
  },
  {
   "cell_type": "code",
   "execution_count": 43,
   "id": "cb1ad01c",
   "metadata": {},
   "outputs": [
    {
     "name": "stdout",
     "output_type": "stream",
     "text": [
      "11 prime no\n",
      "13 prime no\n",
      "17 prime no\n",
      "19 prime no\n",
      "23 prime no\n",
      "29 prime no\n",
      "31 prime no\n",
      "37 prime no\n",
      "41 prime no\n",
      "43 prime no\n",
      "47 prime no\n"
     ]
    }
   ],
   "source": [
    "#wap to print all prime number from 10 to 50\n",
    "for num in range(10,50):\n",
    "    if num>1:\n",
    "        for i in range(2,num):\n",
    "            if num%i==0:\n",
    "                break\n",
    "        else:\n",
    "            print(num,\"prime no\")"
   ]
  },
  {
   "cell_type": "code",
   "execution_count": 44,
   "id": "226edab0",
   "metadata": {},
   "outputs": [
    {
     "name": "stdout",
     "output_type": "stream",
     "text": [
      "5050\n"
     ]
    }
   ],
   "source": [
    "#7.How to print sum of the numbers starting from 1 to 100\n",
    "\n",
    "y = 0\n",
    "for i in range(1,101):\n",
    "    y = y +i\n",
    "print(y)"
   ]
  },
  {
   "cell_type": "code",
   "execution_count": 45,
   "id": "acc57f0a",
   "metadata": {},
   "outputs": [
    {
     "name": "stdout",
     "output_type": "stream",
     "text": [
      "7.5\n"
     ]
    }
   ],
   "source": [
    "# 9.Can you write a program to find the average of numbers in a list in Python?\n",
    "x = [1,2,3,4,5]\n",
    "y = 0\n",
    "for i in x:\n",
    "    y = (y+i)\n",
    "    z=y/2\n",
    "print(z)\n",
    "    \n",
    "    "
   ]
  },
  {
   "cell_type": "code",
   "execution_count": 46,
   "id": "b1211cfa",
   "metadata": {},
   "outputs": [
    {
     "name": "stdout",
     "output_type": "stream",
     "text": [
      "enter the number45\n",
      "not divisible\n"
     ]
    }
   ],
   "source": [
    "#11.1WAP to check a number is divisible by 5 and 11 or not\n",
    "\n",
    "num = int(input(\"enter the number\"))\n",
    "if num%5==0 and num%11==0:\n",
    "    print(num,\"number is divisible by 11 and 5\")\n",
    "else:\n",
    "    print(\"not divisible\")"
   ]
  },
  {
   "cell_type": "code",
   "execution_count": 55,
   "id": "29b4debc",
   "metadata": {},
   "outputs": [
    {
     "name": "stdout",
     "output_type": "stream",
     "text": [
      "enter a number : 1234\n",
      "4321\n"
     ]
    }
   ],
   "source": [
    "#17.Write a program to reverse a number in Python?\n",
    "\n",
    "print(input(\"enter a number : \" )[::-1])\n"
   ]
  },
  {
   "cell_type": "code",
   "execution_count": 62,
   "id": "75bb278c",
   "metadata": {},
   "outputs": [
    {
     "name": "stdout",
     "output_type": "stream",
     "text": [
      "enter the number4561\n",
      "1654\n"
     ]
    }
   ],
   "source": [
    "x = (input(\"enter the number\"))\n",
    "print(x[::-1])\n"
   ]
  },
  {
   "cell_type": "code",
   "execution_count": 60,
   "id": "91f5cd33",
   "metadata": {},
   "outputs": [
    {
     "data": {
      "text/plain": [
       "str"
      ]
     },
     "execution_count": 60,
     "metadata": {},
     "output_type": "execute_result"
    }
   ],
   "source": [
    "type(x)"
   ]
  },
  {
   "cell_type": "code",
   "execution_count": 1,
   "id": "964df327",
   "metadata": {},
   "outputs": [
    {
     "name": "stdout",
     "output_type": "stream",
     "text": [
      "Enter the year78\n",
      "not leap year\n"
     ]
    }
   ],
   "source": [
    "# WAP to check the year is leap year or not .\n",
    "\n",
    "a = int(input(\"Enter the year\"))\n",
    "if (a%4==0 and a%100!=0 or a%400==0):\n",
    "    print(\"year is leap year\")\n",
    "else:\n",
    "    print(\"not leap year\")"
   ]
  },
  {
   "cell_type": "code",
   "execution_count": 1,
   "id": "e29bfd8d",
   "metadata": {},
   "outputs": [
    {
     "name": "stdout",
     "output_type": "stream",
     "text": [
      "sum of digit number= 18\n"
     ]
    }
   ],
   "source": [
    "##18.Write a program to find the sum of the digits of a number in Python?\n",
    "a = 45612\n",
    "sum = 0\n",
    "while(a>0):\n",
    "    sum = sum + a%10\n",
    "    a = a//10\n",
    "print(\"sum of digit number=\",sum)    "
   ]
  },
  {
   "cell_type": "code",
   "execution_count": 4,
   "id": "f0b9ba8c",
   "metadata": {},
   "outputs": [
    {
     "name": "stdout",
     "output_type": "stream",
     "text": [
      "5050\n"
     ]
    }
   ],
   "source": [
    "#7.How to print sum of the numbers starting from 1 to 100\n",
    "sum = 0\n",
    "for i in range(1,101):\n",
    "    sum = sum + i\n",
    "print (sum)    \n",
    "    "
   ]
  },
  {
   "cell_type": "code",
   "execution_count": 9,
   "id": "e58a2cf4",
   "metadata": {},
   "outputs": [
    {
     "name": "stdout",
     "output_type": "stream",
     "text": [
      "Enter the Electricity Unit\n",
      "250\n",
      "375.0\n"
     ]
    }
   ],
   "source": [
    "# 14.Input the electricity unit charge  & calculate the  total electric bill according to given condition.\n",
    "#For first 50 units Rs. 0.50/unit\n",
    "#For next 100 units Rs. 0.75/unit\n",
    "#For next 100 units Rs. 1.20/unit\n",
    "#For unit above 250 Rs. 1.50/unit\n",
    "#An additional surcharge of 20% is added to the bill\n",
    "\n",
    "elec_unit = int(input(\"Enter the Electricity Unit\\n\"))\n",
    "if elec_unit<=50:\n",
    "    elec_bill = 0.50*elec_unit\n",
    "    print(elec_bill)\n",
    "    \n",
    "elif elec_unit >50 and elec_unit<=150:\n",
    "    elec_bill = 0.75*elec_unit\n",
    "    print(elec_bill)\n",
    "\n",
    "elif elec_unit>150 and elec_unit<=250:\n",
    "    elec_bill = elec_unit*1.50\n",
    "    print(elec_bill)\n",
    "    \n",
    "elif elec_unit>250:\n",
    "    elec_bill = elec_unit*1.50\n",
    "    print(elec_bill)\n",
    "\n"
   ]
  },
  {
   "cell_type": "code",
   "execution_count": 16,
   "id": "97f58307",
   "metadata": {},
   "outputs": [
    {
     "name": "stdout",
     "output_type": "stream",
     "text": [
      "Enter the first number45\n",
      "Enter the second number5\n",
      "the lcm of 45 and 5 is 45\n"
     ]
    }
   ],
   "source": [
    "# wap to find lcm of two number \n",
    "\n",
    "a = int(input(\"Enter the first number\"))\n",
    "b = int(input(\"Enter the second number\"))\n",
    "maxnum = max(a,b)\n",
    "while(True):\n",
    "    if maxnum%a==0 and maxnum%b==0:\n",
    "        break\n",
    "        maxnum = maxnum +1\n",
    "print(f\"the lcm of {a} and {b} is {maxnum}\")        "
   ]
  },
  {
   "cell_type": "code",
   "execution_count": 18,
   "id": "102a5f6f",
   "metadata": {},
   "outputs": [
    {
     "name": "stdout",
     "output_type": "stream",
     "text": [
      "enter the age12\n",
      "you are 12 year old\n"
     ]
    }
   ],
   "source": [
    "a = int(input(\"enter the age\"))\n",
    "print(f\"you are {a} year old\")"
   ]
  },
  {
   "cell_type": "code",
   "execution_count": null,
   "id": "6759f08a",
   "metadata": {},
   "outputs": [],
   "source": []
  }
 ],
 "metadata": {
  "kernelspec": {
   "display_name": "Python 3 (ipykernel)",
   "language": "python",
   "name": "python3"
  },
  "language_info": {
   "codemirror_mode": {
    "name": "ipython",
    "version": 3
   },
   "file_extension": ".py",
   "mimetype": "text/x-python",
   "name": "python",
   "nbconvert_exporter": "python",
   "pygments_lexer": "ipython3",
   "version": "3.9.12"
  }
 },
 "nbformat": 4,
 "nbformat_minor": 5
}
