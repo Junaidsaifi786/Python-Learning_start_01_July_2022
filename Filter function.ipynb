{
 "cells": [
  {
   "cell_type": "markdown",
   "id": "0c7d5b49",
   "metadata": {},
   "source": [
    "# Filter\n"
   ]
  },
  {
   "cell_type": "code",
   "execution_count": 14,
   "id": "f3685ae2",
   "metadata": {},
   "outputs": [
    {
     "data": {
      "text/plain": [
       "[98, 85]"
      ]
     },
     "execution_count": 14,
     "metadata": {},
     "output_type": "execute_result"
    }
   ],
   "source": [
    "x =[4,5,6,8,9,10,98,85,60]\n",
    "list(filter(lambda x : True if x>60 else False,x))"
   ]
  },
  {
   "cell_type": "code",
   "execution_count": 15,
   "id": "fb4cc317",
   "metadata": {},
   "outputs": [
    {
     "data": {
      "text/plain": [
       "[98, 85]"
      ]
     },
     "execution_count": 15,
     "metadata": {},
     "output_type": "execute_result"
    }
   ],
   "source": [
    "x =[4,5,6,8,9,10,98,85,60]\n",
    "\n",
    "def func (x):\n",
    "    if x>60:\n",
    "        return True\n",
    "    else:\n",
    "        return False\n",
    "list(filter(func,x))"
   ]
  },
  {
   "cell_type": "code",
   "execution_count": 17,
   "id": "abdf68a3",
   "metadata": {},
   "outputs": [
    {
     "data": {
      "text/plain": [
       "[2, 4, 5, 6, 7]"
      ]
     },
     "execution_count": 17,
     "metadata": {},
     "output_type": "execute_result"
    }
   ],
   "source": [
    "a =[2,4,5,6,7]\n",
    "list(filter(lambda a : a**2,a))"
   ]
  },
  {
   "cell_type": "code",
   "execution_count": null,
   "id": "273d6560",
   "metadata": {},
   "outputs": [],
   "source": []
  }
 ],
 "metadata": {
  "kernelspec": {
   "display_name": "Python 3 (ipykernel)",
   "language": "python",
   "name": "python3"
  },
  "language_info": {
   "codemirror_mode": {
    "name": "ipython",
    "version": 3
   },
   "file_extension": ".py",
   "mimetype": "text/x-python",
   "name": "python",
   "nbconvert_exporter": "python",
   "pygments_lexer": "ipython3",
   "version": "3.9.12"
  }
 },
 "nbformat": 4,
 "nbformat_minor": 5
}
