{
 "cells": [
  {
   "cell_type": "code",
   "execution_count": 2,
   "id": "36161c21",
   "metadata": {},
   "outputs": [
    {
     "name": "stdout",
     "output_type": "stream",
     "text": [
      "10\n",
      "9\n",
      "8\n",
      "7\n",
      "6\n",
      "5\n",
      "4\n",
      "3\n",
      "2\n",
      "1\n"
     ]
    }
   ],
   "source": [
    "# wap to print first 1 to 10 natural nu,ner in reverse order\n",
    "\n",
    "i=10\n",
    "while(i>=1):\n",
    "    print(i)\n",
    "    i=i-1"
   ]
  },
  {
   "cell_type": "code",
   "execution_count": 8,
   "id": "66bf2d66",
   "metadata": {},
   "outputs": [
    {
     "name": "stdout",
     "output_type": "stream",
     "text": [
      "55\n"
     ]
    }
   ],
   "source": [
    "#wap to find sum of first n natural number\n",
    "\n",
    "sum =0\n",
    "i=1\n",
    "while(i<=10):\n",
    "    sum = sum+i\n",
    "    i=i+1\n",
    "print(sum)\n",
    "   \n",
    "    \n",
    "    \n",
    "\n",
    "\n",
    "    "
   ]
  },
  {
   "cell_type": "code",
   "execution_count": 20,
   "id": "1b4b764e",
   "metadata": {},
   "outputs": [
    {
     "name": "stdout",
     "output_type": "stream",
     "text": [
      "1\n",
      "5\n",
      "14\n"
     ]
    }
   ],
   "source": [
    "#wap to print sum of square of first n natural number\n",
    "\n",
    "i=1\n",
    "sum = 0\n",
    "while(i<=3):\n",
    "    sum = sum+i*i\n",
    "    i=i+1\n",
    "    print(sum)"
   ]
  },
  {
   "cell_type": "code",
   "execution_count": 33,
   "id": "db832876",
   "metadata": {
    "scrolled": true
   },
   "outputs": [
    {
     "name": "stdout",
     "output_type": "stream",
     "text": [
      "Enter the number\n",
      "121\n",
      "10\n"
     ]
    }
   ],
   "source": [
    "#wap to print to find sum of cube of a digit of a given number\n",
    " \n",
    "n = int(input(\"Enter the number\\n\")) \n",
    "sum = 0\n",
    "while(n>0):\n",
    "    sum = sum + (n%10)*(n%10)*(n%10)\n",
    "    n = n//10\n",
    "    \n",
    "print(sum)"
   ]
  },
  {
   "cell_type": "code",
   "execution_count": 32,
   "id": "7d9be1aa",
   "metadata": {},
   "outputs": [
    {
     "name": "stdout",
     "output_type": "stream",
     "text": [
      "Enter the number\n",
      "121\n",
      "10\n"
     ]
    }
   ],
   "source": [
    "n = int(input(\"Enter the number\\n\")) \n",
    "sum = 0\n",
    "while(n>0):\n",
    "    sum = sum + (n%10)*(n%10)*(n%10)\n",
    "    n = n//10\n",
    "print(sum)"
   ]
  },
  {
   "cell_type": "code",
   "execution_count": 38,
   "id": "3d49808f",
   "metadata": {},
   "outputs": [
    {
     "name": "stdout",
     "output_type": "stream",
     "text": [
      "Enter the number153\n",
      "not armstrong\n"
     ]
    }
   ],
   "source": [
    "#wap to check the three digit number is palindrome or not\n",
    "n = int(input(\"Enter the number\"))\n",
    "orig = n\n",
    "sum = 0\n",
    "while(n>0):\n",
    "    sum = sum + (n%10)*(n%10)*(n%10)\n",
    "    n = n//2\n",
    "    \n",
    "if orig==sum:\n",
    "    print(\"number is armstrong\")\n",
    "else:\n",
    "    print(\"not armstrong\")\n"
   ]
  },
  {
   "cell_type": "code",
   "execution_count": 15,
   "id": "9f94063e",
   "metadata": {},
   "outputs": [
    {
     "name": "stdout",
     "output_type": "stream",
     "text": [
      "Enter the number123456789\n",
      "362880\n"
     ]
    }
   ],
   "source": [
    "#wap to product of the digit of the number\n",
    "\n",
    "n = int(input(\"Enter the number\"))\n",
    "prod = 1\n",
    "while(n>0):\n",
    "    prod= prod* (n%10)\n",
    "    n =n//10\n",
    "print(prod)\n"
   ]
  },
  {
   "cell_type": "code",
   "execution_count": 17,
   "id": "756eff67",
   "metadata": {},
   "outputs": [
    {
     "name": "stdout",
     "output_type": "stream",
     "text": [
      "Enter the number1234\n",
      "4321\n"
     ]
    }
   ],
   "source": [
    "# wap to print reverese of number\n",
    "\n",
    "n = int(input(\"Enter the number\"))\n",
    "rev = 0\n",
    "while (n>0):\n",
    "    rev = (rev*10) +(n%10)\n",
    "    n = n//10\n",
    "print(rev)"
   ]
  },
  {
   "cell_type": "code",
   "execution_count": 45,
   "id": "f40bdd5a",
   "metadata": {},
   "outputs": [
    {
     "name": "stdout",
     "output_type": "stream",
     "text": [
      "Enter the number525\n",
      "number is palindrome number\n"
     ]
    }
   ],
   "source": [
    "# wap to check number is palindrome or not\n",
    "\n",
    "n = int(input(\"Enter the number\"))\n",
    "orig = n\n",
    "rev = 0\n",
    "while(n>0):\n",
    "    rev = (rev*10)+ n%10\n",
    "    n = n//10\n",
    "if (orig==rev):\n",
    "        print(\"number is palindrome number\")\n",
    "else:\n",
    "        print(\"not palindrome number\")"
   ]
  },
  {
   "cell_type": "code",
   "execution_count": 44,
   "id": "c661d3bc",
   "metadata": {},
   "outputs": [
    {
     "name": "stdout",
     "output_type": "stream",
     "text": [
      "Enter the number17\n",
      "odd\n"
     ]
    }
   ],
   "source": [
    "n = int(input(\"Enter the number\"))\n",
    "if n%2==0:\n",
    "    print(\"even\")\n",
    "else:\n",
    "    print(\"odd\")"
   ]
  },
  {
   "cell_type": "code",
   "execution_count": 70,
   "id": "8502ed0f",
   "metadata": {},
   "outputs": [
    {
     "name": "stdout",
     "output_type": "stream",
     "text": [
      "Enter the number21\n",
      "not prime\n"
     ]
    }
   ],
   "source": [
    "# wap to check number is prime or not\n",
    "\n",
    "num = int(input(\"Enter the number\"))\n",
    "count = 0\n",
    "i = 1\n",
    "while (i<=num):\n",
    "    if num%i==0:\n",
    "        count = count+1\n",
    "    i = i+1\n",
    "if count==2:\n",
    "    print(\"number is prime\")\n",
    "else:\n",
    "    print(\"not prime\")\n",
    "    \n",
    "            \n",
    "            "
   ]
  },
  {
   "cell_type": "code",
   "execution_count": 77,
   "id": "39eb3dad",
   "metadata": {},
   "outputs": [
    {
     "name": "stdout",
     "output_type": "stream",
     "text": [
      "enter the num8\n",
      "not prime\n"
     ]
    }
   ],
   "source": [
    "num = int(input(\"enter the num\"))\n",
    "if num>2:\n",
    "    for i in range(2,num):\n",
    "        if num%i==0:\n",
    "            print(\"not prime\")\n",
    "            break;\n",
    "            \n",
    "    else:\n",
    "        print(\"prime\")"
   ]
  },
  {
   "cell_type": "code",
   "execution_count": 5,
   "id": "543f10b3",
   "metadata": {},
   "outputs": [
    {
     "name": "stdout",
     "output_type": "stream",
     "text": [
      "prime no------> 10\n",
      "prime no------> 12\n",
      "prime no------> 16\n",
      "prime no------> 18\n",
      "prime no------> 22\n",
      "prime no------> 28\n",
      "prime no------> 30\n",
      "prime no------> 36\n",
      "prime no------> 40\n",
      "prime no------> 42\n",
      "prime no------> 46\n"
     ]
    }
   ],
   "source": [
    "for i in range(10,50):\n",
    "    if i>1:\n",
    "        for j in range(2,i):\n",
    "            if i%j==0:\n",
    "                break\n",
    "        else:\n",
    "            print(\"prime no------>\",j)\n",
    "        \n",
    "            "
   ]
  },
  {
   "cell_type": "code",
   "execution_count": 9,
   "id": "387b3448",
   "metadata": {},
   "outputs": [
    {
     "name": "stdout",
     "output_type": "stream",
     "text": [
      "enter the number2\n",
      "0\n",
      "1\n",
      "1\n",
      "2\n"
     ]
    }
   ],
   "source": [
    "#wap to print  fibonacci series of a given number\n",
    "\n",
    "n = int(input(\"enter the number\"))\n",
    "x=0\n",
    "y = 1\n",
    "z = 0\n",
    "fact = 1\n",
    "while(z<=n):\n",
    "    print(z)\n",
    "    x = y\n",
    "    y = z \n",
    "    z = x+y\n",
    "    "
   ]
  },
  {
   "cell_type": "code",
   "execution_count": 14,
   "id": "4f1a6348",
   "metadata": {},
   "outputs": [
    {
     "name": "stdout",
     "output_type": "stream",
     "text": [
      "Enter the number7\n",
      "5040\n"
     ]
    }
   ],
   "source": [
    "#wap to print factorial of a given number\n",
    "\n",
    "num = int(input(\"Enter the number\"))\n",
    "fact = 1\n",
    "while(num>0):\n",
    "    fact = fact*num\n",
    "    num = num-1\n",
    "print(fact)"
   ]
  },
  {
   "cell_type": "code",
   "execution_count": 44,
   "id": "34b1fb0d",
   "metadata": {},
   "outputs": [
    {
     "name": "stdout",
     "output_type": "stream",
     "text": [
      "* \n",
      "* * \n",
      "* * * \n",
      "* * * * \n",
      "* * * * * \n"
     ]
    }
   ],
   "source": [
    "#wap to print star pattern\n",
    "i = 1\n",
    "while(i<=5):\n",
    "    j = 1\n",
    "    while(j<=i):\n",
    "        print(\"*\",end=' ')\n",
    "        j = j+1\n",
    "    print()\n",
    "    i = i+1"
   ]
  },
  {
   "cell_type": "code",
   "execution_count": 23,
   "id": "5727b646",
   "metadata": {},
   "outputs": [
    {
     "name": "stdout",
     "output_type": "stream",
     "text": [
      "1 \n",
      "2 2 \n",
      "3 3 3 \n",
      "4 4 4 4 \n",
      "5 5 5 5 5 \n"
     ]
    }
   ],
   "source": [
    "i = 1\n",
    "while(i<=5):\n",
    "    j = 1\n",
    "    while(j<=i):\n",
    "        print(i,end=' ')\n",
    "        j = j+1\n",
    "    print()\n",
    "    i = i+1"
   ]
  },
  {
   "cell_type": "code",
   "execution_count": 22,
   "id": "223b533b",
   "metadata": {},
   "outputs": [
    {
     "name": "stdout",
     "output_type": "stream",
     "text": [
      "1 \n",
      "1 2 \n",
      "1 2 3 \n",
      "1 2 3 4 \n",
      "1 2 3 4 5 \n"
     ]
    }
   ],
   "source": [
    "i = 1\n",
    "while(i<=5):\n",
    "    j = 1\n",
    "    while(j<=i):\n",
    "        print(j ,end=' ')\n",
    "        j = j+1\n",
    "    print()\n",
    "    i = i+1"
   ]
  },
  {
   "cell_type": "code",
   "execution_count": 49,
   "id": "0e4cd5ba",
   "metadata": {},
   "outputs": [
    {
     "name": "stdout",
     "output_type": "stream",
     "text": [
      "        * \n",
      "      * * \n",
      "    * * * \n",
      "  * * * * \n",
      "* * * * * \n"
     ]
    }
   ],
   "source": [
    "i = 1\n",
    "while(i<=5):\n",
    "    b = 1\n",
    "    while(b<=5-i):\n",
    "        print(' ',end=' ')\n",
    "        b = b+1\n",
    "    j = 1    \n",
    "    while(j<=i):\n",
    "        print('*' ,end=' ')\n",
    "        j = j+1\n",
    "    print()\n",
    "    i = i+1\n"
   ]
  },
  {
   "cell_type": "code",
   "execution_count": 55,
   "id": "991cd18c",
   "metadata": {},
   "outputs": [
    {
     "name": "stdout",
     "output_type": "stream",
     "text": [
      "* \n",
      "* * \n",
      "  * * * \n",
      "    * * * * \n",
      "      * * * * * \n"
     ]
    }
   ],
   "source": [
    "for i in range(1,6):\n",
    "    for b in range(1,i-1):\n",
    "        b = i+\n",
    "        print(\" \",end=' ')\n",
    "    for j in range(1,i+1):\n",
    "        print(\"*\",end= ' ')\n",
    "    print()"
   ]
  },
  {
   "cell_type": "code",
   "execution_count": 72,
   "id": "466d3657",
   "metadata": {},
   "outputs": [
    {
     "name": "stdout",
     "output_type": "stream",
     "text": [
      "        * \n",
      "      * * \n",
      "    * * * \n",
      "  * * * * \n",
      "* * * * * \n"
     ]
    }
   ],
   "source": [
    "i = 1\n",
    "while (i<=5):\n",
    "    b=1\n",
    "    while(b<=5-i):\n",
    "        print(' ',end=' ')\n",
    "        b = b+1\n",
    "    j=1\n",
    "    while(j<=i):\n",
    "        print('*',end=' ')\n",
    "        j=j+1\n",
    "    print()\n",
    "    i=i+1\n",
    "    "
   ]
  },
  {
   "cell_type": "code",
   "execution_count": null,
   "id": "a1739dd2",
   "metadata": {},
   "outputs": [],
   "source": []
  }
 ],
 "metadata": {
  "kernelspec": {
   "display_name": "Python 3 (ipykernel)",
   "language": "python",
   "name": "python3"
  },
  "language_info": {
   "codemirror_mode": {
    "name": "ipython",
    "version": 3
   },
   "file_extension": ".py",
   "mimetype": "text/x-python",
   "name": "python",
   "nbconvert_exporter": "python",
   "pygments_lexer": "ipython3",
   "version": "3.9.12"
  }
 },
 "nbformat": 4,
 "nbformat_minor": 5
}
