{
 "cells": [
  {
   "cell_type": "code",
   "execution_count": 1,
   "id": "ac262dae",
   "metadata": {},
   "outputs": [
    {
     "name": "stdout",
     "output_type": "stream",
     "text": [
      "enter the number87\n",
      "enter the number45\n",
      "number before swapping 87 45\n",
      "number after swapping 45 87\n"
     ]
    }
   ],
   "source": [
    "a = int (input(\"enter the number\"))\n",
    "b = int (input(\"enter the number\"))\n",
    "print (\"number before swapping\",a,b)\n",
    "c=a\n",
    "a=b\n",
    "b=c\n",
    "print(\"number after swapping\",a,b)"
   ]
  },
  {
   "cell_type": "code",
   "execution_count": 8,
   "id": "a997a30b",
   "metadata": {},
   "outputs": [
    {
     "name": "stdout",
     "output_type": "stream",
     "text": [
      "enter the class held\n",
      "500\n",
      "enter the class attend\n",
      "250\n",
      "not allowed\n",
      "If there is any medical issue, press Y if not press N\n",
      "N\n",
      "not allowed\n"
     ]
    }
   ],
   "source": [
    "a = int (input(\"enter the class held\\n\"))\n",
    "b = int (input(\"enter the class attend\\n\"))\n",
    "per = (b/a)*100\n",
    "if per > 75 :\n",
    "    print (\"you can allowed\")\n",
    "elif per<75 :\n",
    "    print(\"not allowed\")\n",
    "    con = (input(\"If there is any medical issue, press Y if not press N\\n\"))\n",
    "    if con==\"Y\":\n",
    "        print(\"allowed\")\n",
    "    elif con == \"N\":\n",
    "          print(\"not allowed\")\n",
    "    "
   ]
  },
  {
   "cell_type": "markdown",
   "id": "15f86148",
   "metadata": {},
   "source": [
    "### "
   ]
  },
  {
   "cell_type": "code",
   "execution_count": null,
   "id": "545bf5c1",
   "metadata": {},
   "outputs": [],
   "source": []
  }
 ],
 "metadata": {
  "kernelspec": {
   "display_name": "Python 3 (ipykernel)",
   "language": "python",
   "name": "python3"
  },
  "language_info": {
   "codemirror_mode": {
    "name": "ipython",
    "version": 3
   },
   "file_extension": ".py",
   "mimetype": "text/x-python",
   "name": "python",
   "nbconvert_exporter": "python",
   "pygments_lexer": "ipython3",
   "version": "3.9.12"
  }
 },
 "nbformat": 4,
 "nbformat_minor": 5
}
