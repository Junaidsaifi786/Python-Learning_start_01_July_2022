{
 "cells": [
  {
   "cell_type": "code",
   "execution_count": 1,
   "id": "a9131bf1",
   "metadata": {},
   "outputs": [],
   "source": [
    "# Wap to add two numbers using function"
   ]
  },
  {
   "cell_type": "code",
   "execution_count": 4,
   "id": "e3ebac07",
   "metadata": {},
   "outputs": [
    {
     "name": "stdout",
     "output_type": "stream",
     "text": [
      "123\n"
     ]
    }
   ],
   "source": [
    "# No Return No Arguments\n",
    "\n",
    "def add():\n",
    "    a = 45\n",
    "    b = 78\n",
    "    add = a + b\n",
    "    print(add)\n",
    "add()    \n",
    "    "
   ]
  },
  {
   "cell_type": "code",
   "execution_count": 5,
   "id": "8da757ac",
   "metadata": {},
   "outputs": [
    {
     "name": "stdout",
     "output_type": "stream",
     "text": [
      "11\n"
     ]
    }
   ],
   "source": [
    "# No Return with Arguments\n",
    "\n",
    "def add(x,y):\n",
    "    z = x + y\n",
    "    print(z)\n",
    "add(5,6)\n",
    "    \n"
   ]
  },
  {
   "cell_type": "code",
   "execution_count": 6,
   "id": "02db360c",
   "metadata": {},
   "outputs": [
    {
     "data": {
      "text/plain": [
       "111"
      ]
     },
     "execution_count": 6,
     "metadata": {},
     "output_type": "execute_result"
    }
   ],
   "source": [
    "# With Argument With Return\n",
    "\n",
    "def add(x,y):\n",
    "    z = x + y\n",
    "    return z\n",
    "add(45,66)"
   ]
  },
  {
   "cell_type": "code",
   "execution_count": 7,
   "id": "6e56a588",
   "metadata": {},
   "outputs": [
    {
     "data": {
      "text/plain": [
       "44"
      ]
     },
     "execution_count": 7,
     "metadata": {},
     "output_type": "execute_result"
    }
   ],
   "source": [
    "# Without argument with return\n",
    "\n",
    "def add():\n",
    "    a = 12 \n",
    "    b = 32\n",
    "    c = a + b\n",
    "    return c\n",
    "add()"
   ]
  },
  {
   "cell_type": "code",
   "execution_count": 11,
   "id": "032cce36",
   "metadata": {},
   "outputs": [
    {
     "name": "stdout",
     "output_type": "stream",
     "text": [
      "Enter the Salary45000\n",
      "Enter the leaves15\n"
     ]
    },
    {
     "data": {
      "text/plain": [
       "41625.0"
      ]
     },
     "execution_count": 11,
     "metadata": {},
     "output_type": "execute_result"
    }
   ],
   "source": [
    "# wap to determine the salary of the employee. Where if the employee\n",
    "# more than take 12 leaves in a year, then the salary will be deducted\n",
    "# 7.5% , if the emp takes leave less than 5 leaves then there will be\n",
    "# bonus of 12.3%, in a year. Calculate the yearly income ?\n",
    "\n",
    "\n",
    "salary = int(input(\"Enter the Salary\"))\n",
    "leaves = int(input(\"Enter the leaves\"))\n",
    "def func(leaves, salary):\n",
    "    if leaves>12:\n",
    "        ded = (salary*7.5)/100\n",
    "        total_sal = salary - ded\n",
    "        return(total_sal)\n",
    "    elif leaves<5:\n",
    "        bonus = (salary*12.3)/100\n",
    "        total_sal = bonus + sal\n",
    "        return (total_sal)\n",
    "func(leaves,salary)\n",
    "    \n",
    "\n"
   ]
  },
  {
   "cell_type": "code",
   "execution_count": null,
   "id": "71cc8cc6",
   "metadata": {},
   "outputs": [],
   "source": []
  }
 ],
 "metadata": {
  "kernelspec": {
   "display_name": "Python 3 (ipykernel)",
   "language": "python",
   "name": "python3"
  },
  "language_info": {
   "codemirror_mode": {
    "name": "ipython",
    "version": 3
   },
   "file_extension": ".py",
   "mimetype": "text/x-python",
   "name": "python",
   "nbconvert_exporter": "python",
   "pygments_lexer": "ipython3",
   "version": "3.9.12"
  }
 },
 "nbformat": 4,
 "nbformat_minor": 5
}
