{
 "cells": [
  {
   "cell_type": "code",
   "execution_count": 4,
   "id": "d7421183",
   "metadata": {},
   "outputs": [
    {
     "data": {
      "text/plain": [
       "[12, 11, 56, 78, 'daily python karni hai', 21, 'True', 56.88]"
      ]
     },
     "execution_count": 4,
     "metadata": {},
     "output_type": "execute_result"
    }
   ],
   "source": [
    "x = [12,11,56,78, \"daily python karni hai\",21,\"True\",56.88]\n",
    "x"
   ]
  },
  {
   "cell_type": "code",
   "execution_count": 5,
   "id": "5a859b66",
   "metadata": {},
   "outputs": [],
   "source": [
    "x.append(0)"
   ]
  },
  {
   "cell_type": "code",
   "execution_count": 6,
   "id": "ad8b3a66",
   "metadata": {},
   "outputs": [
    {
     "name": "stdout",
     "output_type": "stream",
     "text": [
      "[12, 11, 56, 78, 'daily python karni hai', 21, 'True', 56.88, 0]\n"
     ]
    }
   ],
   "source": [
    "print(x)"
   ]
  },
  {
   "cell_type": "code",
   "execution_count": 7,
   "id": "50ad38b5",
   "metadata": {},
   "outputs": [],
   "source": [
    "x.append(12)"
   ]
  },
  {
   "cell_type": "code",
   "execution_count": 8,
   "id": "437cb03f",
   "metadata": {},
   "outputs": [
    {
     "name": "stdout",
     "output_type": "stream",
     "text": [
      "[12, 11, 56, 78, 'daily python karni hai', 21, 'True', 56.88, 0, 12]\n"
     ]
    }
   ],
   "source": [
    "print(x)"
   ]
  },
  {
   "cell_type": "code",
   "execution_count": 9,
   "id": "4ef109d4",
   "metadata": {},
   "outputs": [
    {
     "data": {
      "text/plain": [
       "list"
      ]
     },
     "execution_count": 9,
     "metadata": {},
     "output_type": "execute_result"
    }
   ],
   "source": [
    "type(x)"
   ]
  },
  {
   "cell_type": "code",
   "execution_count": 10,
   "id": "24eb3173",
   "metadata": {},
   "outputs": [
    {
     "name": "stdout",
     "output_type": "stream",
     "text": [
      "[]\n"
     ]
    }
   ],
   "source": [
    "z = []\n",
    "print (z)"
   ]
  },
  {
   "cell_type": "code",
   "execution_count": 11,
   "id": "8d0bc9c8",
   "metadata": {},
   "outputs": [
    {
     "data": {
      "text/plain": [
       "list"
      ]
     },
     "execution_count": 11,
     "metadata": {},
     "output_type": "execute_result"
    }
   ],
   "source": [
    "type(z)"
   ]
  },
  {
   "cell_type": "code",
   "execution_count": 12,
   "id": "8fa35be9",
   "metadata": {},
   "outputs": [
    {
     "data": {
      "text/plain": [
       "[12, 11, 56, 78, 'daily python karni hai', 21, 'True', 56.88, 0, 12]"
      ]
     },
     "execution_count": 12,
     "metadata": {},
     "output_type": "execute_result"
    }
   ],
   "source": [
    "x"
   ]
  },
  {
   "cell_type": "code",
   "execution_count": 13,
   "id": "71ac2070",
   "metadata": {},
   "outputs": [],
   "source": [
    "x.insert(3,12)"
   ]
  },
  {
   "cell_type": "code",
   "execution_count": 14,
   "id": "058dbdbd",
   "metadata": {},
   "outputs": [
    {
     "data": {
      "text/plain": [
       "[12, 11, 56, 12, 78, 'daily python karni hai', 21, 'True', 56.88, 0, 12]"
      ]
     },
     "execution_count": 14,
     "metadata": {},
     "output_type": "execute_result"
    }
   ],
   "source": [
    "x"
   ]
  },
  {
   "cell_type": "code",
   "execution_count": 15,
   "id": "dc2e6975",
   "metadata": {},
   "outputs": [
    {
     "data": {
      "text/plain": [
       "11"
      ]
     },
     "execution_count": 15,
     "metadata": {},
     "output_type": "execute_result"
    }
   ],
   "source": [
    "len(x)"
   ]
  },
  {
   "cell_type": "code",
   "execution_count": 18,
   "id": "9b1e07af",
   "metadata": {},
   "outputs": [
    {
     "name": "stdout",
     "output_type": "stream",
     "text": [
      "[12, 11, 56, 12, 78, 'daily python karni hai', 21, 'True', 56.88, 0, 12]\n"
     ]
    }
   ],
   "source": [
    "print(x)"
   ]
  },
  {
   "cell_type": "code",
   "execution_count": 24,
   "id": "41a8011a",
   "metadata": {},
   "outputs": [
    {
     "data": {
      "text/plain": [
       "[12, 4, 5, 'True', 56.88, 0, 12]"
      ]
     },
     "execution_count": 24,
     "metadata": {},
     "output_type": "execute_result"
    }
   ],
   "source": [
    "x"
   ]
  },
  {
   "cell_type": "code",
   "execution_count": 25,
   "id": "f8e739c8",
   "metadata": {},
   "outputs": [],
   "source": [
    "d = [12,11,56,78, \"daily python karni hai\",21,\"True\",56.88]\n"
   ]
  },
  {
   "cell_type": "code",
   "execution_count": 26,
   "id": "4078f72e",
   "metadata": {},
   "outputs": [
    {
     "name": "stdout",
     "output_type": "stream",
     "text": [
      "[12, 11, 56, 78, 'daily python karni hai', 21, 'True', 56.88]\n"
     ]
    }
   ],
   "source": [
    "print (d)"
   ]
  },
  {
   "cell_type": "code",
   "execution_count": 27,
   "id": "def1b2eb",
   "metadata": {},
   "outputs": [],
   "source": [
    "d[1:6]=[2,1]"
   ]
  },
  {
   "cell_type": "code",
   "execution_count": 28,
   "id": "a57dfeca",
   "metadata": {},
   "outputs": [
    {
     "name": "stdout",
     "output_type": "stream",
     "text": [
      "[12, 2, 1, 'True', 56.88]\n"
     ]
    }
   ],
   "source": [
    "print(d)"
   ]
  },
  {
   "cell_type": "code",
   "execution_count": 29,
   "id": "02f5e30e",
   "metadata": {},
   "outputs": [
    {
     "data": {
      "text/plain": [
       "[2, 1, 'True', 56.88]"
      ]
     },
     "execution_count": 29,
     "metadata": {},
     "output_type": "execute_result"
    }
   ],
   "source": [
    "d[1:6]"
   ]
  },
  {
   "cell_type": "code",
   "execution_count": 30,
   "id": "a2a6e72f",
   "metadata": {},
   "outputs": [],
   "source": [
    "m=[12,13,14,16,15,\"hjdsjk\",45.66,\"True\"]"
   ]
  },
  {
   "cell_type": "code",
   "execution_count": 31,
   "id": "817c08c0",
   "metadata": {},
   "outputs": [
    {
     "data": {
      "text/plain": [
       "[13, 14, 15, 15]"
      ]
     },
     "execution_count": 31,
     "metadata": {},
     "output_type": "execute_result"
    }
   ],
   "source": [
    "m[1:5]"
   ]
  },
  {
   "cell_type": "code",
   "execution_count": 38,
   "id": "19fa3391",
   "metadata": {},
   "outputs": [
    {
     "data": {
      "text/plain": [
       "[12, 13, 11, 12]"
      ]
     },
     "execution_count": 38,
     "metadata": {},
     "output_type": "execute_result"
    }
   ],
   "source": [
    "m"
   ]
  },
  {
   "cell_type": "code",
   "execution_count": 37,
   "id": "6cc0326a",
   "metadata": {},
   "outputs": [
    {
     "name": "stdout",
     "output_type": "stream",
     "text": [
      "[12, 13, 11, 12]\n"
     ]
    }
   ],
   "source": [
    "m[2:6]=[11,12]\n",
    "print (m)"
   ]
  },
  {
   "cell_type": "code",
   "execution_count": 39,
   "id": "878b945c",
   "metadata": {},
   "outputs": [],
   "source": [
    "w = [12,78,98,56,35,\"hello nhai kaise\",\"true\",45.66,61.44]\n"
   ]
  },
  {
   "cell_type": "code",
   "execution_count": 40,
   "id": "2f2238ff",
   "metadata": {},
   "outputs": [],
   "source": [
    "w[2:7]=[3,786]"
   ]
  },
  {
   "cell_type": "code",
   "execution_count": 41,
   "id": "fa2d0a74",
   "metadata": {},
   "outputs": [
    {
     "name": "stdout",
     "output_type": "stream",
     "text": [
      "[12, 78, 3, 786, 45.66, 61.44]\n"
     ]
    }
   ],
   "source": [
    "print (w)"
   ]
  },
  {
   "cell_type": "code",
   "execution_count": 42,
   "id": "61e25fe1",
   "metadata": {},
   "outputs": [
    {
     "data": {
      "text/plain": [
       "[12, 78, 3, 786, 45.66, 61.44]"
      ]
     },
     "execution_count": 42,
     "metadata": {},
     "output_type": "execute_result"
    }
   ],
   "source": [
    "w"
   ]
  },
  {
   "cell_type": "code",
   "execution_count": 46,
   "id": "5b3cc1a8",
   "metadata": {},
   "outputs": [
    {
     "name": "stdout",
     "output_type": "stream",
     "text": [
      "[12, 78, 45, 3, 786, 45.66, 61.44]\n"
     ]
    }
   ],
   "source": [
    "w.insert(2,45)\n",
    "print(w)"
   ]
  },
  {
   "cell_type": "code",
   "execution_count": 47,
   "id": "899700aa",
   "metadata": {},
   "outputs": [
    {
     "data": {
      "text/plain": [
       "0"
      ]
     },
     "execution_count": 47,
     "metadata": {},
     "output_type": "execute_result"
    }
   ],
   "source": [
    "w.count(5)"
   ]
  },
  {
   "cell_type": "code",
   "execution_count": 48,
   "id": "9779932e",
   "metadata": {},
   "outputs": [
    {
     "data": {
      "text/plain": [
       "61.44"
      ]
     },
     "execution_count": 48,
     "metadata": {},
     "output_type": "execute_result"
    }
   ],
   "source": [
    "w.pop()"
   ]
  },
  {
   "cell_type": "code",
   "execution_count": 49,
   "id": "72a16922",
   "metadata": {},
   "outputs": [
    {
     "data": {
      "text/plain": [
       "[12, 78, 45, 3, 786, 45.66]"
      ]
     },
     "execution_count": 49,
     "metadata": {},
     "output_type": "execute_result"
    }
   ],
   "source": [
    "w"
   ]
  },
  {
   "cell_type": "code",
   "execution_count": 50,
   "id": "bff58374",
   "metadata": {},
   "outputs": [
    {
     "data": {
      "text/plain": [
       "[12, 78, 45, 3, 786]"
      ]
     },
     "execution_count": 50,
     "metadata": {},
     "output_type": "execute_result"
    }
   ],
   "source": [
    "w.pop()\n",
    "w"
   ]
  },
  {
   "cell_type": "code",
   "execution_count": 51,
   "id": "561ac9d5",
   "metadata": {},
   "outputs": [
    {
     "data": {
      "text/plain": [
       "[12, 78, 45, 3, 786]"
      ]
     },
     "execution_count": 51,
     "metadata": {},
     "output_type": "execute_result"
    }
   ],
   "source": [
    "w"
   ]
  },
  {
   "cell_type": "code",
   "execution_count": 52,
   "id": "ee909a4c",
   "metadata": {},
   "outputs": [],
   "source": [
    "w.reverse()"
   ]
  },
  {
   "cell_type": "code",
   "execution_count": 53,
   "id": "088c3485",
   "metadata": {},
   "outputs": [
    {
     "data": {
      "text/plain": [
       "[786, 3, 45, 78, 12]"
      ]
     },
     "execution_count": 53,
     "metadata": {},
     "output_type": "execute_result"
    }
   ],
   "source": [
    "w"
   ]
  },
  {
   "cell_type": "code",
   "execution_count": 54,
   "id": "2052d7a8",
   "metadata": {},
   "outputs": [],
   "source": [
    "w.sort(reverse=True)"
   ]
  },
  {
   "cell_type": "code",
   "execution_count": 55,
   "id": "05d98e84",
   "metadata": {},
   "outputs": [
    {
     "data": {
      "text/plain": [
       "[786, 78, 45, 12, 3]"
      ]
     },
     "execution_count": 55,
     "metadata": {},
     "output_type": "execute_result"
    }
   ],
   "source": [
    "w"
   ]
  },
  {
   "cell_type": "code",
   "execution_count": 56,
   "id": "46120f18",
   "metadata": {},
   "outputs": [],
   "source": [
    "w.remove(78)"
   ]
  },
  {
   "cell_type": "code",
   "execution_count": 57,
   "id": "1bafb307",
   "metadata": {},
   "outputs": [
    {
     "data": {
      "text/plain": [
       "[786, 45, 12, 3]"
      ]
     },
     "execution_count": 57,
     "metadata": {},
     "output_type": "execute_result"
    }
   ],
   "source": [
    "w"
   ]
  },
  {
   "cell_type": "code",
   "execution_count": 65,
   "id": "353195d6",
   "metadata": {},
   "outputs": [
    {
     "name": "stdout",
     "output_type": "stream",
     "text": [
      "98\n"
     ]
    }
   ],
   "source": [
    "x=[12,78,45,65,98,11]    #wap to find the maximum number in a list \n",
    "y=13\n",
    "for i in x:\n",
    "    if y<i:\n",
    "        y=i\n",
    "print(y)"
   ]
  },
  {
   "cell_type": "code",
   "execution_count": 66,
   "id": "12275c3f",
   "metadata": {},
   "outputs": [
    {
     "name": "stdout",
     "output_type": "stream",
     "text": [
      "12\n",
      "12\n",
      "12\n",
      "12\n",
      "12\n",
      "11\n"
     ]
    }
   ],
   "source": [
    "# wap to find minimum number in a list \n",
    "\n",
    "x=[12,78,45,65,98,11]    #wap to find the maximum number in a list \n",
    "y=13\n",
    "for i in x:\n",
    "    if y>i:\n",
    "        y=i\n",
    "    print(y)"
   ]
  },
  {
   "cell_type": "code",
   "execution_count": 68,
   "id": "0ea02cf8",
   "metadata": {},
   "outputs": [
    {
     "name": "stdout",
     "output_type": "stream",
     "text": [
      "10\n",
      "11\n",
      "15\n",
      "20\n",
      "20\n",
      "78\n",
      "95\n"
     ]
    }
   ],
   "source": [
    "x=[10,11,15,20,13,78,95]\n",
    "y= 0\n",
    "for i in x:\n",
    "    if y<i:\n",
    "        y=i\n",
    "    print(y)\n"
   ]
  },
  {
   "cell_type": "code",
   "execution_count": null,
   "id": "1974a1b7",
   "metadata": {},
   "outputs": [],
   "source": [
    "\n",
    "\n"
   ]
  }
 ],
 "metadata": {
  "kernelspec": {
   "display_name": "Python 3 (ipykernel)",
   "language": "python",
   "name": "python3"
  },
  "language_info": {
   "codemirror_mode": {
    "name": "ipython",
    "version": 3
   },
   "file_extension": ".py",
   "mimetype": "text/x-python",
   "name": "python",
   "nbconvert_exporter": "python",
   "pygments_lexer": "ipython3",
   "version": "3.9.12"
  }
 },
 "nbformat": 4,
 "nbformat_minor": 5
}
