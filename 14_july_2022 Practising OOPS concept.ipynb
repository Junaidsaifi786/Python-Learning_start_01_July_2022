{
 "cells": [
  {
   "cell_type": "code",
   "execution_count": 13,
   "id": "0641ccab",
   "metadata": {},
   "outputs": [
    {
     "name": "stdout",
     "output_type": "stream",
     "text": [
      "2  prime number\n"
     ]
    }
   ],
   "source": [
    "num = 2\n",
    "if num > 1:\n",
    "    for i in range (2,num):\n",
    "        if num % i == 0:\n",
    "            print(num,\"not prime number\")\n",
    "            break\n",
    "    else:\n",
    "        print(num,\" prime number\")\n",
    "        \n",
    "else:\n",
    "    printf(\"not prime number\")\n"
   ]
  },
  {
   "cell_type": "code",
   "execution_count": 21,
   "id": "8d3b7812",
   "metadata": {},
   "outputs": [
    {
     "data": {
      "text/plain": [
       "141"
      ]
     },
     "execution_count": 21,
     "metadata": {},
     "output_type": "execute_result"
    }
   ],
   "source": [
    "class student:\n",
    "    def func(self,x,y,z):\n",
    "        result = x+y+z\n",
    "        return result\n",
    "s = student()\n",
    "s.func(45,48,48)"
   ]
  },
  {
   "cell_type": "code",
   "execution_count": 32,
   "id": "10acea7c",
   "metadata": {},
   "outputs": [
    {
     "data": {
      "text/plain": [
       "517.5"
      ]
     },
     "execution_count": 32,
     "metadata": {},
     "output_type": "execute_result"
    }
   ],
   "source": [
    "#wap to find the cost of furniture if you visit the shop\n",
    "# on even days then you will be offered a discount of \n",
    "# 20% and if you visit the shop on odd days then there is \n",
    "# extra chrges of 3.5% on the total cost.find the cost\n",
    "# with the help of oops using function\n",
    "\n",
    "class furniture:\n",
    "    def func(self,days,cost):\n",
    "        if days % 2 == 0: \n",
    "            discount = (cost*20)/100\n",
    "            total_cost = cost - discount\n",
    "            return(total_cost)\n",
    "        else:\n",
    "            charges = (cost*3.5)/100\n",
    "            total_cost = cost + charges\n",
    "            return ( total_cost)\n",
    "f = furniture() \n",
    "f.func(5,500)\n",
    "        \n",
    "        \n",
    "        \n",
    "        \n",
    "        \n",
    "        \n",
    "        \n",
    "       \n",
    "    \n",
    "            \n",
    "        "
   ]
  },
  {
   "cell_type": "code",
   "execution_count": null,
   "id": "9960aef2",
   "metadata": {},
   "outputs": [],
   "source": []
  },
  {
   "cell_type": "code",
   "execution_count": null,
   "id": "6b2d6637",
   "metadata": {},
   "outputs": [],
   "source": []
  }
 ],
 "metadata": {
  "kernelspec": {
   "display_name": "Python 3 (ipykernel)",
   "language": "python",
   "name": "python3"
  },
  "language_info": {
   "codemirror_mode": {
    "name": "ipython",
    "version": 3
   },
   "file_extension": ".py",
   "mimetype": "text/x-python",
   "name": "python",
   "nbconvert_exporter": "python",
   "pygments_lexer": "ipython3",
   "version": "3.9.12"
  }
 },
 "nbformat": 4,
 "nbformat_minor": 5
}
