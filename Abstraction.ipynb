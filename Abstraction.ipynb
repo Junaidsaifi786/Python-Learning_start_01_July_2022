{
 "cells": [
  {
   "cell_type": "code",
   "execution_count": 1,
   "id": "83a05afc",
   "metadata": {},
   "outputs": [
    {
     "data": {
      "text/plain": [
       "'hello13'"
      ]
     },
     "execution_count": 1,
     "metadata": {},
     "output_type": "execute_result"
    }
   ],
   "source": [
    "class oprtrovldng:\n",
    "    def func(self,a,b):\n",
    "        return(a+b)\n",
    "    \n",
    "ob = oprtrovldng()\n",
    "ob.func(\"hello\",\"13\")"
   ]
  },
  {
   "cell_type": "code",
   "execution_count": 3,
   "id": "68616d89",
   "metadata": {},
   "outputs": [
    {
     "data": {
      "text/plain": [
       "20"
      ]
     },
     "execution_count": 3,
     "metadata": {},
     "output_type": "execute_result"
    }
   ],
   "source": [
    "#\n",
    "class addvalue:\n",
    "    def func(self,x,y=8):\n",
    "        add = x+y\n",
    "        return add\n",
    "ob = addvalue()\n",
    "ob.func(12)"
   ]
  },
  {
   "cell_type": "code",
   "execution_count": 13,
   "id": "6007c9c9",
   "metadata": {},
   "outputs": [
    {
     "data": {
      "text/plain": [
       "30000"
      ]
     },
     "execution_count": 13,
     "metadata": {},
     "output_type": "execute_result"
    }
   ],
   "source": [
    "class emp():\n",
    "    def info(self):\n",
    "        salary = 20000\n",
    "        return salary\n",
    "\n",
    "class emp1():\n",
    "    def detail(self):\n",
    "        salary2 = 30000\n",
    "        return salary2\n",
    "\n",
    "x = emp1()\n",
    "x.detail()\n"
   ]
  },
  {
   "cell_type": "code",
   "execution_count": 8,
   "id": "06b8dfaf",
   "metadata": {},
   "outputs": [
    {
     "name": "stdout",
     "output_type": "stream",
     "text": [
      "hello I am python\n",
      "Abstraction ka code\n"
     ]
    }
   ],
   "source": [
    "# abstraction method\n",
    "\n",
    "from abc import ABC, abstractmethod\n",
    "\n",
    "class emp:\n",
    "    def details(self):\n",
    "        print(\"Abstraction ka code\")\n",
    "        \n",
    "class emp1(emp):\n",
    "    def info(self):\n",
    "        print(\"hello I am python\")\n",
    "        \n",
    "e = emp1()\n",
    "e.info()\n",
    "e.details()"
   ]
  },
  {
   "cell_type": "code",
   "execution_count": 10,
   "id": "e77e41fe",
   "metadata": {},
   "outputs": [
    {
     "name": "stdout",
     "output_type": "stream",
     "text": [
      "hello I am python\n"
     ]
    }
   ],
   "source": [
    "from abc import ABC, abstractmethod  # this is the method to hide the complexity at the user end\n",
    "\n",
    "class emp(ABC):\n",
    "    @abstractmethod\n",
    "    def details(self):\n",
    "        print(\"Abstraction ka code\")  #if we do inherit the property of parent class to child class in abstract method then the complexity \n",
    "                             # of the data of child class will be hide\n",
    "class emp1():\n",
    "    def info(self):\n",
    "        print(\"hello I am python\")\n",
    "        \n",
    "e = emp1()\n",
    "e.info()"
   ]
  },
  {
   "cell_type": "code",
   "execution_count": 11,
   "id": "3d83f83b",
   "metadata": {},
   "outputs": [
    {
     "ename": "AttributeError",
     "evalue": "'emp1' object has no attribute 'details'",
     "output_type": "error",
     "traceback": [
      "\u001b[1;31m---------------------------------------------------------------------------\u001b[0m",
      "\u001b[1;31mAttributeError\u001b[0m                            Traceback (most recent call last)",
      "Input \u001b[1;32mIn [11]\u001b[0m, in \u001b[0;36m<cell line: 1>\u001b[1;34m()\u001b[0m\n\u001b[1;32m----> 1\u001b[0m \u001b[43me\u001b[49m\u001b[38;5;241;43m.\u001b[39;49m\u001b[43mdetails\u001b[49m()\n",
      "\u001b[1;31mAttributeError\u001b[0m: 'emp1' object has no attribute 'details'"
     ]
    }
   ],
   "source": [
    "e.details()"
   ]
  },
  {
   "cell_type": "code",
   "execution_count": 21,
   "id": "aabf8cba",
   "metadata": {},
   "outputs": [
    {
     "data": {
      "text/plain": [
       "30000"
      ]
     },
     "execution_count": 21,
     "metadata": {},
     "output_type": "execute_result"
    }
   ],
   "source": [
    "# wap to make ABC(abstract base class) and try to find the salary odf the employe.\n",
    "\n",
    "class emp(ABC):\n",
    "    @abstractmethod\n",
    "    def info(self):\n",
    "        salary = 20000\n",
    "        return salary\n",
    "\n",
    "class emp1():\n",
    "    def detail(self):\n",
    "        salary2 = 30000\n",
    "        return salary2\n",
    "\n",
    "x = emp1()\n",
    "x.detail()\n"
   ]
  },
  {
   "cell_type": "code",
   "execution_count": 22,
   "id": "3d4d60a6",
   "metadata": {},
   "outputs": [
    {
     "ename": "AttributeError",
     "evalue": "'emp1' object has no attribute 'info'",
     "output_type": "error",
     "traceback": [
      "\u001b[1;31m---------------------------------------------------------------------------\u001b[0m",
      "\u001b[1;31mAttributeError\u001b[0m                            Traceback (most recent call last)",
      "Input \u001b[1;32mIn [22]\u001b[0m, in \u001b[0;36m<cell line: 1>\u001b[1;34m()\u001b[0m\n\u001b[1;32m----> 1\u001b[0m \u001b[43mx\u001b[49m\u001b[38;5;241;43m.\u001b[39;49m\u001b[43minfo\u001b[49m()\n",
      "\u001b[1;31mAttributeError\u001b[0m: 'emp1' object has no attribute 'info'"
     ]
    }
   ],
   "source": [
    "x.info()"
   ]
  },
  {
   "cell_type": "code",
   "execution_count": null,
   "id": "7c51d60b",
   "metadata": {},
   "outputs": [],
   "source": []
  }
 ],
 "metadata": {
  "kernelspec": {
   "display_name": "Python 3 (ipykernel)",
   "language": "python",
   "name": "python3"
  },
  "language_info": {
   "codemirror_mode": {
    "name": "ipython",
    "version": 3
   },
   "file_extension": ".py",
   "mimetype": "text/x-python",
   "name": "python",
   "nbconvert_exporter": "python",
   "pygments_lexer": "ipython3",
   "version": "3.9.12"
  }
 },
 "nbformat": 4,
 "nbformat_minor": 5
}
