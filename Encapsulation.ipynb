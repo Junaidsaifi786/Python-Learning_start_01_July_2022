{
 "cells": [
  {
   "cell_type": "markdown",
   "id": "ca161bf2",
   "metadata": {},
   "source": [
    "# Encapsulation\n"
   ]
  },
  {
   "cell_type": "code",
   "execution_count": 1,
   "id": "f3b1761d",
   "metadata": {},
   "outputs": [],
   "source": [
    "# in this method we can hide the data or we can say restrict the data.... at the user end\n",
    "# user can not access the data\n",
    "# If there is an error in  the code. so these error remove by the admin.user have not access to resolve this error.\n",
    "\n",
    "# Real life example = Swiggy app, Paytm app In swiggy app we have only access  ordering the food, or we can choose the restraunt\n",
    "# but we dont have access the delievery boy, or we can choose the offer according to the user\n",
    "\n",
    "# Access modifier======> there are three access modifier 1. Public 2. Private 3. protected \n"
   ]
  },
  {
   "cell_type": "code",
   "execution_count": 2,
   "id": "a16fe8f8",
   "metadata": {},
   "outputs": [],
   "source": [
    "# Private code "
   ]
  },
  {
   "cell_type": "code",
   "execution_count": 3,
   "id": "599260e7",
   "metadata": {},
   "outputs": [
    {
     "name": "stdout",
     "output_type": "stream",
     "text": [
      "Ram 24\n"
     ]
    },
    {
     "ename": "AttributeError",
     "evalue": "'student' object has no attribute 'detail'",
     "output_type": "error",
     "traceback": [
      "\u001b[1;31m---------------------------------------------------------------------------\u001b[0m",
      "\u001b[1;31mAttributeError\u001b[0m                            Traceback (most recent call last)",
      "Input \u001b[1;32mIn [3]\u001b[0m, in \u001b[0;36m<cell line: 12>\u001b[1;34m()\u001b[0m\n\u001b[0;32m     10\u001b[0m ob \u001b[38;5;241m=\u001b[39m student()  \n\u001b[0;32m     11\u001b[0m ob\u001b[38;5;241m.\u001b[39minfo(\u001b[38;5;124m'\u001b[39m\u001b[38;5;124mRam\u001b[39m\u001b[38;5;124m'\u001b[39m,\u001b[38;5;241m24\u001b[39m)\n\u001b[1;32m---> 12\u001b[0m \u001b[43mob\u001b[49m\u001b[38;5;241;43m.\u001b[39;49m\u001b[43mdetail\u001b[49m(\u001b[38;5;241m200\u001b[39m)\n",
      "\u001b[1;31mAttributeError\u001b[0m: 'student' object has no attribute 'detail'"
     ]
    }
   ],
   "source": [
    "class student:\n",
    "    def info(self,name,age):\n",
    "        print(name,age)\n",
    "        \n",
    "        \n",
    "    def __detail(self,marks):  # this fuction get the hide with the help of double underscore\n",
    "        print(marks)\n",
    "        \n",
    "        \n",
    "ob = student()  \n",
    "ob.info('Ram',24)\n",
    "ob.detail(200)\n",
    "    "
   ]
  },
  {
   "cell_type": "code",
   "execution_count": null,
   "id": "138ab243",
   "metadata": {},
   "outputs": [],
   "source": [
    "class student:\n",
    "    def __init__(self,name,__age): #--------->as we define double underscore before the arguments our python knows about this \n",
    "        self.name = name  # code is going in private mode because python is interpret based language . It stop to read further\n",
    "        self.age = age  # and give error to the user\n",
    "        \n",
    "    def add(self,x,y):\n",
    "        return x+y\n",
    "    \n",
    "        \n",
    "ob = student('A',24)    \n",
    "ob.add(12,36)\n",
    "    "
   ]
  },
  {
   "cell_type": "code",
   "execution_count": null,
   "id": "0f7f6958",
   "metadata": {},
   "outputs": [],
   "source": [
    "# Protected Method..........\n",
    "\n",
    "class emp():  # this a parent class but it behaves like a child class becausse our python dont know which class we use like \n",
    "    def _info(self,salary,leaves): # parent class or a child class se we can use parenthesis in the parent class \n",
    "        print(salary)\n",
    "        print(leaves)\n",
    "\n",
    "e = emp()\n",
    "e._info(15000,2)  #yaha par hamara code public hai"
   ]
  },
  {
   "cell_type": "code",
   "execution_count": null,
   "id": "ab6e752f",
   "metadata": {},
   "outputs": [],
   "source": [
    "class emp():\n",
    "def _info(self,salary,leaves):\n",
    "print(salary)\n",
    "        print(leaves)\n",
    "\n",
    "e = emp()\n",
    "e.info(15000,2)  #yaha par hamara code private hai"
   ]
  },
  {
   "cell_type": "code",
   "execution_count": 13,
   "id": "e1ca1a85",
   "metadata": {},
   "outputs": [
    {
     "name": "stdout",
     "output_type": "stream",
     "text": [
      "pass\n"
     ]
    }
   ],
   "source": [
    "# Question  Wap to perform the inheritance between two classes having private and protected code\n",
    "# to find the student is pass or fail in exam\n",
    "\n",
    "class student1:\n",
    "    def __init__(self,__name,_marks):\n",
    "        self.__name = __name\n",
    "        self._marks = _marks\n",
    "        \n",
    "class student2(student1):\n",
    "    def __init__(self,__name,_marks,addr):\n",
    "        super().__init__(__name,_marks)      \n",
    "        self.addr = addr\n",
    "        \n",
    "        \n",
    "        if _marks >35:\n",
    "            print('pass')\n",
    "        else:\n",
    "            print('fail')\n",
    "        \n",
    "        \n",
    "\n",
    "ob = student2('Abhay',58,'purani haveli')  \n",
    "\n",
    "\n"
   ]
  },
  {
   "cell_type": "code",
   "execution_count": 18,
   "id": "20389a43",
   "metadata": {},
   "outputs": [
    {
     "ename": "AttributeError",
     "evalue": "'student2' object has no attribute '_marks'",
     "output_type": "error",
     "traceback": [
      "\u001b[1;31m---------------------------------------------------------------------------\u001b[0m",
      "\u001b[1;31mAttributeError\u001b[0m                            Traceback (most recent call last)",
      "Input \u001b[1;32mIn [18]\u001b[0m, in \u001b[0;36m<cell line: 1>\u001b[1;34m()\u001b[0m\n\u001b[1;32m----> 1\u001b[0m \u001b[43mob\u001b[49m\u001b[38;5;241;43m.\u001b[39;49m\u001b[43m_marks\u001b[49m\n",
      "\u001b[1;31mAttributeError\u001b[0m: 'student2' object has no attribute '_marks'"
     ]
    }
   ],
   "source": [
    "ob._marks"
   ]
  },
  {
   "cell_type": "code",
   "execution_count": 70,
   "id": "0e6d1237",
   "metadata": {},
   "outputs": [
    {
     "name": "stdout",
     "output_type": "stream",
     "text": [
      "66.66666666666667\n"
     ]
    },
    {
     "ename": "AttributeError",
     "evalue": "'car' object has no attribute 's'",
     "output_type": "error",
     "traceback": [
      "\u001b[1;31m---------------------------------------------------------------------------\u001b[0m",
      "\u001b[1;31mAttributeError\u001b[0m                            Traceback (most recent call last)",
      "Input \u001b[1;32mIn [70]\u001b[0m, in \u001b[0;36m<cell line: 28>\u001b[1;34m()\u001b[0m\n\u001b[0;32m     25\u001b[0m         \u001b[38;5;28mprint\u001b[39m(ratio)\n\u001b[0;32m     27\u001b[0m c \u001b[38;5;241m=\u001b[39m car(\u001b[38;5;241m200\u001b[39m,\u001b[38;5;241m3\u001b[39m,\u001b[38;5;241m80\u001b[39m)\n\u001b[1;32m---> 28\u001b[0m \u001b[43mc\u001b[49m\u001b[38;5;241;43m.\u001b[39;49m\u001b[43mspeed2\u001b[49m\u001b[43m(\u001b[49m\u001b[43m)\u001b[49m\n",
      "Input \u001b[1;32mIn [70]\u001b[0m, in \u001b[0;36mcar.speed2\u001b[1;34m(self)\u001b[0m\n\u001b[0;32m     22\u001b[0m s \u001b[38;5;241m=\u001b[39m \u001b[38;5;28mself\u001b[39m\u001b[38;5;241m.\u001b[39mdist\u001b[38;5;241m/\u001b[39m\u001b[38;5;28mself\u001b[39m\u001b[38;5;241m.\u001b[39mtime\n\u001b[0;32m     23\u001b[0m \u001b[38;5;28mprint\u001b[39m(s)\n\u001b[1;32m---> 24\u001b[0m ratio \u001b[38;5;241m=\u001b[39m \u001b[38;5;28mself\u001b[39m\u001b[38;5;241m.\u001b[39mspeed1\u001b[38;5;241m/\u001b[39m\u001b[38;5;28;43mself\u001b[39;49m\u001b[38;5;241;43m.\u001b[39;49m\u001b[43ms\u001b[49m\n\u001b[0;32m     25\u001b[0m \u001b[38;5;28mprint\u001b[39m(ratio)\n",
      "\u001b[1;31mAttributeError\u001b[0m: 'car' object has no attribute 's'"
     ]
    }
   ],
   "source": [
    "#wap to find the speed of the car with respect to truck\n",
    "# 1. your dist is inherited by truck class to car class.\n",
    "# 2. your time will be in protected mode.\n",
    "# 3.none of the attribute is in public & private mode.\n",
    "# 4. find the ratio of their speed also.\n"
   ]
  },
  {
   "cell_type": "code",
   "execution_count": 91,
   "id": "580a7e26",
   "metadata": {},
   "outputs": [
    {
     "ename": "AttributeError",
     "evalue": "'car' object has no attribute 'time'",
     "output_type": "error",
     "traceback": [
      "\u001b[1;31m---------------------------------------------------------------------------\u001b[0m",
      "\u001b[1;31mAttributeError\u001b[0m                            Traceback (most recent call last)",
      "Input \u001b[1;32mIn [91]\u001b[0m, in \u001b[0;36m<cell line: 25>\u001b[1;34m()\u001b[0m\n\u001b[0;32m     23\u001b[0m         \u001b[38;5;28mprint\u001b[39m(\u001b[38;5;124m\"\u001b[39m\u001b[38;5;124mThe ratio of their speed is\u001b[39m\u001b[38;5;124m\"\u001b[39m,ratio)\n\u001b[0;32m     24\u001b[0m c \u001b[38;5;241m=\u001b[39m car(\u001b[38;5;241m200\u001b[39m,\u001b[38;5;241m3\u001b[39m,\u001b[38;5;241m60\u001b[39m) \n\u001b[1;32m---> 25\u001b[0m \u001b[43mc\u001b[49m\u001b[38;5;241;43m.\u001b[39;49m\u001b[43mspeed1\u001b[49m\u001b[43m(\u001b[49m\u001b[43m)\u001b[49m\n",
      "Input \u001b[1;32mIn [91]\u001b[0m, in \u001b[0;36mcar.speed1\u001b[1;34m(self)\u001b[0m\n\u001b[0;32m     19\u001b[0m \u001b[38;5;28;01mdef\u001b[39;00m \u001b[38;5;21mspeed1\u001b[39m(\u001b[38;5;28mself\u001b[39m):\n\u001b[1;32m---> 20\u001b[0m     s \u001b[38;5;241m=\u001b[39m \u001b[38;5;28mself\u001b[39m\u001b[38;5;241m.\u001b[39mdist\u001b[38;5;241m/\u001b[39m\u001b[38;5;28;43mself\u001b[39;49m\u001b[38;5;241;43m.\u001b[39;49m\u001b[43mtime\u001b[49m\n\u001b[0;32m     21\u001b[0m     \u001b[38;5;28mprint\u001b[39m(s)\n\u001b[0;32m     22\u001b[0m     ratio \u001b[38;5;241m=\u001b[39m \u001b[38;5;28mself\u001b[39m\u001b[38;5;241m.\u001b[39mspeed\u001b[38;5;241m/\u001b[39ms\n",
      "\u001b[1;31mAttributeError\u001b[0m: 'car' object has no attribute 'time'"
     ]
    }
   ],
   "source": [
    "#wap to find the speed of the car with respect to truck\n",
    "# 1. your dist is inherited by truck class to car class.\n",
    "# 2. your time will be in protected mode.\n",
    "# 3.none of the attribute is in public & private mode.\n",
    "# 4. find the ratio of their speed also.\n",
    "\n",
    "\n",
    "class truck:\n",
    "    def __init__(self,dist,__time,speed):\n",
    "        self.dist = dist\n",
    "        self.__time = __time\n",
    "        self.speed = speed\n",
    "        \n",
    "           \n",
    "class car(truck):\n",
    "    def __init__(self,dist,__time,speed):\n",
    "        super().__init__(dist,__time,speed)\n",
    "        \n",
    "    def speed1(self):\n",
    "        s = self.dist/self.time\n",
    "        print(s)\n",
    "        ratio = self.speed/s\n",
    "        print(\"The ratio of their speed is\",ratio)\n",
    "c = car(200,3,60) \n",
    "c.speed1()\n",
    "            \n",
    "            "
   ]
  },
  {
   "cell_type": "code",
   "execution_count": 87,
   "id": "1abc238b",
   "metadata": {},
   "outputs": [
    {
     "data": {
      "text/plain": [
       "60"
      ]
     },
     "execution_count": 87,
     "metadata": {},
     "output_type": "execute_result"
    }
   ],
   "source": [
    "c.speed"
   ]
  },
  {
   "cell_type": "code",
   "execution_count": 88,
   "id": "87da96f4",
   "metadata": {},
   "outputs": [
    {
     "data": {
      "text/plain": [
       "200"
      ]
     },
     "execution_count": 88,
     "metadata": {},
     "output_type": "execute_result"
    }
   ],
   "source": [
    "c.dist"
   ]
  },
  {
   "cell_type": "code",
   "execution_count": 92,
   "id": "c76285c2",
   "metadata": {},
   "outputs": [
    {
     "ename": "AttributeError",
     "evalue": "'car' object has no attribute 'time'",
     "output_type": "error",
     "traceback": [
      "\u001b[1;31m---------------------------------------------------------------------------\u001b[0m",
      "\u001b[1;31mAttributeError\u001b[0m                            Traceback (most recent call last)",
      "Input \u001b[1;32mIn [92]\u001b[0m, in \u001b[0;36m<cell line: 1>\u001b[1;34m()\u001b[0m\n\u001b[1;32m----> 1\u001b[0m \u001b[43mc\u001b[49m\u001b[38;5;241;43m.\u001b[39;49m\u001b[43mtime\u001b[49m\n",
      "\u001b[1;31mAttributeError\u001b[0m: 'car' object has no attribute 'time'"
     ]
    }
   ],
   "source": [
    "c.time"
   ]
  },
  {
   "cell_type": "code",
   "execution_count": 95,
   "id": "33be382c",
   "metadata": {},
   "outputs": [
    {
     "ename": "AttributeError",
     "evalue": "'car' object has no attribute 'time'",
     "output_type": "error",
     "traceback": [
      "\u001b[1;31m---------------------------------------------------------------------------\u001b[0m",
      "\u001b[1;31mAttributeError\u001b[0m                            Traceback (most recent call last)",
      "Input \u001b[1;32mIn [95]\u001b[0m, in \u001b[0;36m<cell line: 1>\u001b[1;34m()\u001b[0m\n\u001b[1;32m----> 1\u001b[0m \u001b[43mc\u001b[49m\u001b[38;5;241;43m.\u001b[39;49m\u001b[43mspeed1\u001b[49m\u001b[43m(\u001b[49m\u001b[43m)\u001b[49m\n",
      "Input \u001b[1;32mIn [91]\u001b[0m, in \u001b[0;36mcar.speed1\u001b[1;34m(self)\u001b[0m\n\u001b[0;32m     19\u001b[0m \u001b[38;5;28;01mdef\u001b[39;00m \u001b[38;5;21mspeed1\u001b[39m(\u001b[38;5;28mself\u001b[39m):\n\u001b[1;32m---> 20\u001b[0m     s \u001b[38;5;241m=\u001b[39m \u001b[38;5;28mself\u001b[39m\u001b[38;5;241m.\u001b[39mdist\u001b[38;5;241m/\u001b[39m\u001b[38;5;28;43mself\u001b[39;49m\u001b[38;5;241;43m.\u001b[39;49m\u001b[43mtime\u001b[49m\n\u001b[0;32m     21\u001b[0m     \u001b[38;5;28mprint\u001b[39m(s)\n\u001b[0;32m     22\u001b[0m     ratio \u001b[38;5;241m=\u001b[39m \u001b[38;5;28mself\u001b[39m\u001b[38;5;241m.\u001b[39mspeed\u001b[38;5;241m/\u001b[39ms\n",
      "\u001b[1;31mAttributeError\u001b[0m: 'car' object has no attribute 'time'"
     ]
    }
   ],
   "source": [
    "c.speed1()"
   ]
  },
  {
   "cell_type": "code",
   "execution_count": 96,
   "id": "004d9129",
   "metadata": {},
   "outputs": [
    {
     "data": {
      "text/plain": [
       "60"
      ]
     },
     "execution_count": 96,
     "metadata": {},
     "output_type": "execute_result"
    }
   ],
   "source": [
    "c.speed"
   ]
  },
  {
   "cell_type": "code",
   "execution_count": 97,
   "id": "c12e86d7",
   "metadata": {},
   "outputs": [
    {
     "data": {
      "text/plain": [
       "200"
      ]
     },
     "execution_count": 97,
     "metadata": {},
     "output_type": "execute_result"
    }
   ],
   "source": [
    "c.dist"
   ]
  },
  {
   "cell_type": "code",
   "execution_count": 98,
   "id": "d273c792",
   "metadata": {},
   "outputs": [
    {
     "ename": "AttributeError",
     "evalue": "'car' object has no attribute 'time'",
     "output_type": "error",
     "traceback": [
      "\u001b[1;31m---------------------------------------------------------------------------\u001b[0m",
      "\u001b[1;31mAttributeError\u001b[0m                            Traceback (most recent call last)",
      "Input \u001b[1;32mIn [98]\u001b[0m, in \u001b[0;36m<cell line: 1>\u001b[1;34m()\u001b[0m\n\u001b[1;32m----> 1\u001b[0m \u001b[43mc\u001b[49m\u001b[38;5;241;43m.\u001b[39;49m\u001b[43mtime\u001b[49m\n",
      "\u001b[1;31mAttributeError\u001b[0m: 'car' object has no attribute 'time'"
     ]
    }
   ],
   "source": [
    "c.time"
   ]
  },
  {
   "cell_type": "code",
   "execution_count": 100,
   "id": "3bbbb599",
   "metadata": {},
   "outputs": [
    {
     "ename": "AttributeError",
     "evalue": "'car' object has no attribute 'time'",
     "output_type": "error",
     "traceback": [
      "\u001b[1;31m---------------------------------------------------------------------------\u001b[0m",
      "\u001b[1;31mAttributeError\u001b[0m                            Traceback (most recent call last)",
      "Input \u001b[1;32mIn [100]\u001b[0m, in \u001b[0;36m<cell line: 1>\u001b[1;34m()\u001b[0m\n\u001b[1;32m----> 1\u001b[0m \u001b[43mc\u001b[49m\u001b[38;5;241;43m.\u001b[39;49m\u001b[43mspeed1\u001b[49m\u001b[43m(\u001b[49m\u001b[43m)\u001b[49m\n",
      "Input \u001b[1;32mIn [91]\u001b[0m, in \u001b[0;36mcar.speed1\u001b[1;34m(self)\u001b[0m\n\u001b[0;32m     19\u001b[0m \u001b[38;5;28;01mdef\u001b[39;00m \u001b[38;5;21mspeed1\u001b[39m(\u001b[38;5;28mself\u001b[39m):\n\u001b[1;32m---> 20\u001b[0m     s \u001b[38;5;241m=\u001b[39m \u001b[38;5;28mself\u001b[39m\u001b[38;5;241m.\u001b[39mdist\u001b[38;5;241m/\u001b[39m\u001b[38;5;28;43mself\u001b[39;49m\u001b[38;5;241;43m.\u001b[39;49m\u001b[43mtime\u001b[49m\n\u001b[0;32m     21\u001b[0m     \u001b[38;5;28mprint\u001b[39m(s)\n\u001b[0;32m     22\u001b[0m     ratio \u001b[38;5;241m=\u001b[39m \u001b[38;5;28mself\u001b[39m\u001b[38;5;241m.\u001b[39mspeed\u001b[38;5;241m/\u001b[39ms\n",
      "\u001b[1;31mAttributeError\u001b[0m: 'car' object has no attribute 'time'"
     ]
    }
   ],
   "source": [
    "c.speed1()"
   ]
  },
  {
   "cell_type": "code",
   "execution_count": null,
   "id": "8fa25da3",
   "metadata": {},
   "outputs": [],
   "source": []
  }
 ],
 "metadata": {
  "kernelspec": {
   "display_name": "Python 3 (ipykernel)",
   "language": "python",
   "name": "python3"
  },
  "language_info": {
   "codemirror_mode": {
    "name": "ipython",
    "version": 3
   },
   "file_extension": ".py",
   "mimetype": "text/x-python",
   "name": "python",
   "nbconvert_exporter": "python",
   "pygments_lexer": "ipython3",
   "version": "3.9.12"
  }
 },
 "nbformat": 4,
 "nbformat_minor": 5
}
